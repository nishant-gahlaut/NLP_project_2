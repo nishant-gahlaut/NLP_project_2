{
 "cells": [
  {
   "cell_type": "code",
   "execution_count": 1,
   "id": "c8dfddc1",
   "metadata": {
    "execution": {
     "iopub.execute_input": "2022-12-28T05:42:02.848299Z",
     "iopub.status.busy": "2022-12-28T05:42:02.847693Z",
     "iopub.status.idle": "2022-12-28T05:42:02.859496Z",
     "shell.execute_reply": "2022-12-28T05:42:02.858595Z"
    },
    "papermill": {
     "duration": 0.027578,
     "end_time": "2022-12-28T05:42:02.861727",
     "exception": false,
     "start_time": "2022-12-28T05:42:02.834149",
     "status": "completed"
    },
    "tags": []
   },
   "outputs": [],
   "source": [
    "import numpy as np \n",
    "import pandas as pd"
   ]
  },
  {
   "cell_type": "code",
   "execution_count": 2,
   "id": "034a5fb6",
   "metadata": {
    "execution": {
     "iopub.execute_input": "2022-12-28T05:42:02.887333Z",
     "iopub.status.busy": "2022-12-28T05:42:02.886642Z",
     "iopub.status.idle": "2022-12-28T05:42:03.160816Z",
     "shell.execute_reply": "2022-12-28T05:42:03.159930Z"
    },
    "papermill": {
     "duration": 0.290915,
     "end_time": "2022-12-28T05:42:03.163479",
     "exception": false,
     "start_time": "2022-12-28T05:42:02.872564",
     "status": "completed"
    },
    "tags": []
   },
   "outputs": [],
   "source": [
    "df = pd.read_csv('/kaggle/input/stockpriceanalysis/stock_sentiment_analysis.csv',encoding='ISO-8859-1')"
   ]
  },
  {
   "cell_type": "code",
   "execution_count": 3,
   "id": "36bee10e",
   "metadata": {
    "execution": {
     "iopub.execute_input": "2022-12-28T05:42:03.186763Z",
     "iopub.status.busy": "2022-12-28T05:42:03.186010Z",
     "iopub.status.idle": "2022-12-28T05:42:03.227181Z",
     "shell.execute_reply": "2022-12-28T05:42:03.226009Z"
    },
    "papermill": {
     "duration": 0.056827,
     "end_time": "2022-12-28T05:42:03.230824",
     "exception": false,
     "start_time": "2022-12-28T05:42:03.173997",
     "status": "completed"
    },
    "tags": []
   },
   "outputs": [
    {
     "data": {
      "text/html": [
       "<div>\n",
       "<style scoped>\n",
       "    .dataframe tbody tr th:only-of-type {\n",
       "        vertical-align: middle;\n",
       "    }\n",
       "\n",
       "    .dataframe tbody tr th {\n",
       "        vertical-align: top;\n",
       "    }\n",
       "\n",
       "    .dataframe thead th {\n",
       "        text-align: right;\n",
       "    }\n",
       "</style>\n",
       "<table border=\"1\" class=\"dataframe\">\n",
       "  <thead>\n",
       "    <tr style=\"text-align: right;\">\n",
       "      <th></th>\n",
       "      <th>Date</th>\n",
       "      <th>Label</th>\n",
       "      <th>Top1</th>\n",
       "      <th>Top2</th>\n",
       "      <th>Top3</th>\n",
       "      <th>Top4</th>\n",
       "      <th>Top5</th>\n",
       "      <th>Top6</th>\n",
       "      <th>Top7</th>\n",
       "      <th>Top8</th>\n",
       "      <th>...</th>\n",
       "      <th>Top16</th>\n",
       "      <th>Top17</th>\n",
       "      <th>Top18</th>\n",
       "      <th>Top19</th>\n",
       "      <th>Top20</th>\n",
       "      <th>Top21</th>\n",
       "      <th>Top22</th>\n",
       "      <th>Top23</th>\n",
       "      <th>Top24</th>\n",
       "      <th>Top25</th>\n",
       "    </tr>\n",
       "  </thead>\n",
       "  <tbody>\n",
       "    <tr>\n",
       "      <th>0</th>\n",
       "      <td>2000-01-03</td>\n",
       "      <td>0</td>\n",
       "      <td>A 'hindrance to operations': extracts from the...</td>\n",
       "      <td>Scorecard</td>\n",
       "      <td>Hughes' instant hit buoys Blues</td>\n",
       "      <td>Jack gets his skates on at ice-cold Alex</td>\n",
       "      <td>Chaos as Maracana builds up for United</td>\n",
       "      <td>Depleted Leicester prevail as Elliott spoils E...</td>\n",
       "      <td>Hungry Spurs sense rich pickings</td>\n",
       "      <td>Gunners so wide of an easy target</td>\n",
       "      <td>...</td>\n",
       "      <td>Flintoff injury piles on woe for England</td>\n",
       "      <td>Hunters threaten Jospin with new battle of the...</td>\n",
       "      <td>Kohl's successor drawn into scandal</td>\n",
       "      <td>The difference between men and women</td>\n",
       "      <td>Sara Denver, nurse turned solicitor</td>\n",
       "      <td>Diana's landmine crusade put Tories in a panic</td>\n",
       "      <td>Yeltsin's resignation caught opposition flat-f...</td>\n",
       "      <td>Russian roulette</td>\n",
       "      <td>Sold out</td>\n",
       "      <td>Recovering a title</td>\n",
       "    </tr>\n",
       "    <tr>\n",
       "      <th>1</th>\n",
       "      <td>2000-01-04</td>\n",
       "      <td>0</td>\n",
       "      <td>Scorecard</td>\n",
       "      <td>The best lake scene</td>\n",
       "      <td>Leader: German sleaze inquiry</td>\n",
       "      <td>Cheerio, boyo</td>\n",
       "      <td>The main recommendations</td>\n",
       "      <td>Has Cubie killed fees?</td>\n",
       "      <td>Has Cubie killed fees?</td>\n",
       "      <td>Has Cubie killed fees?</td>\n",
       "      <td>...</td>\n",
       "      <td>On the critical list</td>\n",
       "      <td>The timing of their lives</td>\n",
       "      <td>Dear doctor</td>\n",
       "      <td>Irish court halts IRA man's extradition to Nor...</td>\n",
       "      <td>Burundi peace initiative fades after rebels re...</td>\n",
       "      <td>PE points the way forward to the ECB</td>\n",
       "      <td>Campaigners keep up pressure on Nazi war crime...</td>\n",
       "      <td>Jane Ratcliffe</td>\n",
       "      <td>Yet more things you wouldn't know without the ...</td>\n",
       "      <td>Millennium bug fails to bite</td>\n",
       "    </tr>\n",
       "    <tr>\n",
       "      <th>2</th>\n",
       "      <td>2000-01-05</td>\n",
       "      <td>0</td>\n",
       "      <td>Coventry caught on counter by Flo</td>\n",
       "      <td>United's rivals on the road to Rio</td>\n",
       "      <td>Thatcher issues defence before trial by video</td>\n",
       "      <td>Police help Smith lay down the law at Everton</td>\n",
       "      <td>Tale of Trautmann bears two more retellings</td>\n",
       "      <td>England on the rack</td>\n",
       "      <td>Pakistan retaliate with call for video of Walsh</td>\n",
       "      <td>Cullinan continues his Cape monopoly</td>\n",
       "      <td>...</td>\n",
       "      <td>South Melbourne (Australia)</td>\n",
       "      <td>Necaxa (Mexico)</td>\n",
       "      <td>Real Madrid (Spain)</td>\n",
       "      <td>Raja Casablanca (Morocco)</td>\n",
       "      <td>Corinthians (Brazil)</td>\n",
       "      <td>Tony's pet project</td>\n",
       "      <td>Al Nassr (Saudi Arabia)</td>\n",
       "      <td>Ideal Holmes show</td>\n",
       "      <td>Pinochet leaves hospital after tests</td>\n",
       "      <td>Useful links</td>\n",
       "    </tr>\n",
       "    <tr>\n",
       "      <th>3</th>\n",
       "      <td>2000-01-06</td>\n",
       "      <td>1</td>\n",
       "      <td>Pilgrim knows how to progress</td>\n",
       "      <td>Thatcher facing ban</td>\n",
       "      <td>McIlroy calls for Irish fighting spirit</td>\n",
       "      <td>Leicester bin stadium blueprint</td>\n",
       "      <td>United braced for Mexican wave</td>\n",
       "      <td>Auntie back in fashion, even if the dress look...</td>\n",
       "      <td>Shoaib appeal goes to the top</td>\n",
       "      <td>Hussain hurt by 'shambles' but lays blame on e...</td>\n",
       "      <td>...</td>\n",
       "      <td>Putin admits Yeltsin quit to give him a head s...</td>\n",
       "      <td>BBC worst hit as digital TV begins to bite</td>\n",
       "      <td>How much can you pay for...</td>\n",
       "      <td>Christmas glitches</td>\n",
       "      <td>Upending a table, Chopping a line and Scoring ...</td>\n",
       "      <td>Scientific evidence 'unreliable', defence claims</td>\n",
       "      <td>Fusco wins judicial review in extradition case</td>\n",
       "      <td>Rebels thwart Russian advance</td>\n",
       "      <td>Blair orders shake-up of failing NHS</td>\n",
       "      <td>Lessons of law's hard heart</td>\n",
       "    </tr>\n",
       "    <tr>\n",
       "      <th>4</th>\n",
       "      <td>2000-01-07</td>\n",
       "      <td>1</td>\n",
       "      <td>Hitches and Horlocks</td>\n",
       "      <td>Beckham off but United survive</td>\n",
       "      <td>Breast cancer screening</td>\n",
       "      <td>Alan Parker</td>\n",
       "      <td>Guardian readers: are you all whingers?</td>\n",
       "      <td>Hollywood Beyond</td>\n",
       "      <td>Ashes and diamonds</td>\n",
       "      <td>Whingers - a formidable minority</td>\n",
       "      <td>...</td>\n",
       "      <td>Most everywhere:  UDIs</td>\n",
       "      <td>Most wanted:  Chloe lunettes</td>\n",
       "      <td>Return of the cane 'completely off the agenda'</td>\n",
       "      <td>From Sleepy Hollow to Greeneland</td>\n",
       "      <td>Blunkett outlines vision for over 11s</td>\n",
       "      <td>Embattled Dobson attacks 'play now, pay later'...</td>\n",
       "      <td>Doom and the Dome</td>\n",
       "      <td>What is the north-south divide?</td>\n",
       "      <td>Aitken released from jail</td>\n",
       "      <td>Gone aloft</td>\n",
       "    </tr>\n",
       "  </tbody>\n",
       "</table>\n",
       "<p>5 rows × 27 columns</p>\n",
       "</div>"
      ],
      "text/plain": [
       "         Date  Label                                               Top1  \\\n",
       "0  2000-01-03      0  A 'hindrance to operations': extracts from the...   \n",
       "1  2000-01-04      0                                          Scorecard   \n",
       "2  2000-01-05      0                  Coventry caught on counter by Flo   \n",
       "3  2000-01-06      1                      Pilgrim knows how to progress   \n",
       "4  2000-01-07      1                               Hitches and Horlocks   \n",
       "\n",
       "                                 Top2  \\\n",
       "0                           Scorecard   \n",
       "1                 The best lake scene   \n",
       "2  United's rivals on the road to Rio   \n",
       "3                 Thatcher facing ban   \n",
       "4      Beckham off but United survive   \n",
       "\n",
       "                                            Top3  \\\n",
       "0                Hughes' instant hit buoys Blues   \n",
       "1                  Leader: German sleaze inquiry   \n",
       "2  Thatcher issues defence before trial by video   \n",
       "3        McIlroy calls for Irish fighting spirit   \n",
       "4                        Breast cancer screening   \n",
       "\n",
       "                                            Top4  \\\n",
       "0       Jack gets his skates on at ice-cold Alex   \n",
       "1                                  Cheerio, boyo   \n",
       "2  Police help Smith lay down the law at Everton   \n",
       "3                Leicester bin stadium blueprint   \n",
       "4                                    Alan Parker   \n",
       "\n",
       "                                          Top5  \\\n",
       "0       Chaos as Maracana builds up for United   \n",
       "1                     The main recommendations   \n",
       "2  Tale of Trautmann bears two more retellings   \n",
       "3               United braced for Mexican wave   \n",
       "4      Guardian readers: are you all whingers?   \n",
       "\n",
       "                                                Top6  \\\n",
       "0  Depleted Leicester prevail as Elliott spoils E...   \n",
       "1                             Has Cubie killed fees?   \n",
       "2                                England on the rack   \n",
       "3  Auntie back in fashion, even if the dress look...   \n",
       "4                                   Hollywood Beyond   \n",
       "\n",
       "                                              Top7  \\\n",
       "0                 Hungry Spurs sense rich pickings   \n",
       "1                           Has Cubie killed fees?   \n",
       "2  Pakistan retaliate with call for video of Walsh   \n",
       "3                    Shoaib appeal goes to the top   \n",
       "4                               Ashes and diamonds   \n",
       "\n",
       "                                                Top8  ...  \\\n",
       "0                  Gunners so wide of an easy target  ...   \n",
       "1                             Has Cubie killed fees?  ...   \n",
       "2               Cullinan continues his Cape monopoly  ...   \n",
       "3  Hussain hurt by 'shambles' but lays blame on e...  ...   \n",
       "4                   Whingers - a formidable minority  ...   \n",
       "\n",
       "                                               Top16  \\\n",
       "0           Flintoff injury piles on woe for England   \n",
       "1                               On the critical list   \n",
       "2                        South Melbourne (Australia)   \n",
       "3  Putin admits Yeltsin quit to give him a head s...   \n",
       "4                             Most everywhere:  UDIs   \n",
       "\n",
       "                                               Top17  \\\n",
       "0  Hunters threaten Jospin with new battle of the...   \n",
       "1                          The timing of their lives   \n",
       "2                                    Necaxa (Mexico)   \n",
       "3         BBC worst hit as digital TV begins to bite   \n",
       "4                       Most wanted:  Chloe lunettes   \n",
       "\n",
       "                                            Top18  \\\n",
       "0             Kohl's successor drawn into scandal   \n",
       "1                                     Dear doctor   \n",
       "2                             Real Madrid (Spain)   \n",
       "3                     How much can you pay for...   \n",
       "4  Return of the cane 'completely off the agenda'   \n",
       "\n",
       "                                               Top19  \\\n",
       "0               The difference between men and women   \n",
       "1  Irish court halts IRA man's extradition to Nor...   \n",
       "2                          Raja Casablanca (Morocco)   \n",
       "3                                 Christmas glitches   \n",
       "4                   From Sleepy Hollow to Greeneland   \n",
       "\n",
       "                                               Top20  \\\n",
       "0                Sara Denver, nurse turned solicitor   \n",
       "1  Burundi peace initiative fades after rebels re...   \n",
       "2                               Corinthians (Brazil)   \n",
       "3  Upending a table, Chopping a line and Scoring ...   \n",
       "4              Blunkett outlines vision for over 11s   \n",
       "\n",
       "                                               Top21  \\\n",
       "0     Diana's landmine crusade put Tories in a panic   \n",
       "1               PE points the way forward to the ECB   \n",
       "2                                 Tony's pet project   \n",
       "3   Scientific evidence 'unreliable', defence claims   \n",
       "4  Embattled Dobson attacks 'play now, pay later'...   \n",
       "\n",
       "                                               Top22  \\\n",
       "0  Yeltsin's resignation caught opposition flat-f...   \n",
       "1  Campaigners keep up pressure on Nazi war crime...   \n",
       "2                            Al Nassr (Saudi Arabia)   \n",
       "3     Fusco wins judicial review in extradition case   \n",
       "4                                  Doom and the Dome   \n",
       "\n",
       "                             Top23  \\\n",
       "0                 Russian roulette   \n",
       "1                   Jane Ratcliffe   \n",
       "2                Ideal Holmes show   \n",
       "3    Rebels thwart Russian advance   \n",
       "4  What is the north-south divide?   \n",
       "\n",
       "                                               Top24  \\\n",
       "0                                           Sold out   \n",
       "1  Yet more things you wouldn't know without the ...   \n",
       "2               Pinochet leaves hospital after tests   \n",
       "3               Blair orders shake-up of failing NHS   \n",
       "4                          Aitken released from jail   \n",
       "\n",
       "                          Top25  \n",
       "0            Recovering a title  \n",
       "1  Millennium bug fails to bite  \n",
       "2                  Useful links  \n",
       "3   Lessons of law's hard heart  \n",
       "4                    Gone aloft  \n",
       "\n",
       "[5 rows x 27 columns]"
      ]
     },
     "execution_count": 3,
     "metadata": {},
     "output_type": "execute_result"
    }
   ],
   "source": [
    "df.head()"
   ]
  },
  {
   "cell_type": "code",
   "execution_count": 4,
   "id": "e8da5c5c",
   "metadata": {
    "execution": {
     "iopub.execute_input": "2022-12-28T05:42:03.256217Z",
     "iopub.status.busy": "2022-12-28T05:42:03.254986Z",
     "iopub.status.idle": "2022-12-28T05:42:03.268634Z",
     "shell.execute_reply": "2022-12-28T05:42:03.267491Z"
    },
    "papermill": {
     "duration": 0.028529,
     "end_time": "2022-12-28T05:42:03.270969",
     "exception": false,
     "start_time": "2022-12-28T05:42:03.242440",
     "status": "completed"
    },
    "tags": []
   },
   "outputs": [],
   "source": [
    "train= df[df['Date']<'20150101']\n",
    "test= df[df['Date']>'20141231']"
   ]
  },
  {
   "cell_type": "code",
   "execution_count": 5,
   "id": "c9ebed2b",
   "metadata": {
    "execution": {
     "iopub.execute_input": "2022-12-28T05:42:03.295061Z",
     "iopub.status.busy": "2022-12-28T05:42:03.294653Z",
     "iopub.status.idle": "2022-12-28T05:42:03.302127Z",
     "shell.execute_reply": "2022-12-28T05:42:03.301008Z"
    },
    "papermill": {
     "duration": 0.022197,
     "end_time": "2022-12-28T05:42:03.304351",
     "exception": false,
     "start_time": "2022-12-28T05:42:03.282154",
     "status": "completed"
    },
    "tags": []
   },
   "outputs": [],
   "source": [
    "data= train.iloc[:,2:27]"
   ]
  },
  {
   "cell_type": "code",
   "execution_count": 6,
   "id": "fb64bb2f",
   "metadata": {
    "execution": {
     "iopub.execute_input": "2022-12-28T05:42:03.328325Z",
     "iopub.status.busy": "2022-12-28T05:42:03.327881Z",
     "iopub.status.idle": "2022-12-28T05:42:03.353834Z",
     "shell.execute_reply": "2022-12-28T05:42:03.352817Z"
    },
    "papermill": {
     "duration": 0.040571,
     "end_time": "2022-12-28T05:42:03.355966",
     "exception": false,
     "start_time": "2022-12-28T05:42:03.315395",
     "status": "completed"
    },
    "tags": []
   },
   "outputs": [
    {
     "data": {
      "text/html": [
       "<div>\n",
       "<style scoped>\n",
       "    .dataframe tbody tr th:only-of-type {\n",
       "        vertical-align: middle;\n",
       "    }\n",
       "\n",
       "    .dataframe tbody tr th {\n",
       "        vertical-align: top;\n",
       "    }\n",
       "\n",
       "    .dataframe thead th {\n",
       "        text-align: right;\n",
       "    }\n",
       "</style>\n",
       "<table border=\"1\" class=\"dataframe\">\n",
       "  <thead>\n",
       "    <tr style=\"text-align: right;\">\n",
       "      <th></th>\n",
       "      <th>Top1</th>\n",
       "      <th>Top2</th>\n",
       "      <th>Top3</th>\n",
       "      <th>Top4</th>\n",
       "      <th>Top5</th>\n",
       "      <th>Top6</th>\n",
       "      <th>Top7</th>\n",
       "      <th>Top8</th>\n",
       "      <th>Top9</th>\n",
       "      <th>Top10</th>\n",
       "      <th>...</th>\n",
       "      <th>Top16</th>\n",
       "      <th>Top17</th>\n",
       "      <th>Top18</th>\n",
       "      <th>Top19</th>\n",
       "      <th>Top20</th>\n",
       "      <th>Top21</th>\n",
       "      <th>Top22</th>\n",
       "      <th>Top23</th>\n",
       "      <th>Top24</th>\n",
       "      <th>Top25</th>\n",
       "    </tr>\n",
       "  </thead>\n",
       "  <tbody>\n",
       "    <tr>\n",
       "      <th>0</th>\n",
       "      <td>A 'hindrance to operations': extracts from the...</td>\n",
       "      <td>Scorecard</td>\n",
       "      <td>Hughes' instant hit buoys Blues</td>\n",
       "      <td>Jack gets his skates on at ice-cold Alex</td>\n",
       "      <td>Chaos as Maracana builds up for United</td>\n",
       "      <td>Depleted Leicester prevail as Elliott spoils E...</td>\n",
       "      <td>Hungry Spurs sense rich pickings</td>\n",
       "      <td>Gunners so wide of an easy target</td>\n",
       "      <td>Derby raise a glass to Strupar's debut double</td>\n",
       "      <td>Southgate strikes, Leeds pay the penalty</td>\n",
       "      <td>...</td>\n",
       "      <td>Flintoff injury piles on woe for England</td>\n",
       "      <td>Hunters threaten Jospin with new battle of the...</td>\n",
       "      <td>Kohl's successor drawn into scandal</td>\n",
       "      <td>The difference between men and women</td>\n",
       "      <td>Sara Denver, nurse turned solicitor</td>\n",
       "      <td>Diana's landmine crusade put Tories in a panic</td>\n",
       "      <td>Yeltsin's resignation caught opposition flat-f...</td>\n",
       "      <td>Russian roulette</td>\n",
       "      <td>Sold out</td>\n",
       "      <td>Recovering a title</td>\n",
       "    </tr>\n",
       "    <tr>\n",
       "      <th>1</th>\n",
       "      <td>Scorecard</td>\n",
       "      <td>The best lake scene</td>\n",
       "      <td>Leader: German sleaze inquiry</td>\n",
       "      <td>Cheerio, boyo</td>\n",
       "      <td>The main recommendations</td>\n",
       "      <td>Has Cubie killed fees?</td>\n",
       "      <td>Has Cubie killed fees?</td>\n",
       "      <td>Has Cubie killed fees?</td>\n",
       "      <td>Hopkins 'furious' at Foster's lack of Hannibal...</td>\n",
       "      <td>Has Cubie killed fees?</td>\n",
       "      <td>...</td>\n",
       "      <td>On the critical list</td>\n",
       "      <td>The timing of their lives</td>\n",
       "      <td>Dear doctor</td>\n",
       "      <td>Irish court halts IRA man's extradition to Nor...</td>\n",
       "      <td>Burundi peace initiative fades after rebels re...</td>\n",
       "      <td>PE points the way forward to the ECB</td>\n",
       "      <td>Campaigners keep up pressure on Nazi war crime...</td>\n",
       "      <td>Jane Ratcliffe</td>\n",
       "      <td>Yet more things you wouldn't know without the ...</td>\n",
       "      <td>Millennium bug fails to bite</td>\n",
       "    </tr>\n",
       "    <tr>\n",
       "      <th>2</th>\n",
       "      <td>Coventry caught on counter by Flo</td>\n",
       "      <td>United's rivals on the road to Rio</td>\n",
       "      <td>Thatcher issues defence before trial by video</td>\n",
       "      <td>Police help Smith lay down the law at Everton</td>\n",
       "      <td>Tale of Trautmann bears two more retellings</td>\n",
       "      <td>England on the rack</td>\n",
       "      <td>Pakistan retaliate with call for video of Walsh</td>\n",
       "      <td>Cullinan continues his Cape monopoly</td>\n",
       "      <td>McGrath puts India out of their misery</td>\n",
       "      <td>Blair Witch bandwagon rolls on</td>\n",
       "      <td>...</td>\n",
       "      <td>South Melbourne (Australia)</td>\n",
       "      <td>Necaxa (Mexico)</td>\n",
       "      <td>Real Madrid (Spain)</td>\n",
       "      <td>Raja Casablanca (Morocco)</td>\n",
       "      <td>Corinthians (Brazil)</td>\n",
       "      <td>Tony's pet project</td>\n",
       "      <td>Al Nassr (Saudi Arabia)</td>\n",
       "      <td>Ideal Holmes show</td>\n",
       "      <td>Pinochet leaves hospital after tests</td>\n",
       "      <td>Useful links</td>\n",
       "    </tr>\n",
       "    <tr>\n",
       "      <th>3</th>\n",
       "      <td>Pilgrim knows how to progress</td>\n",
       "      <td>Thatcher facing ban</td>\n",
       "      <td>McIlroy calls for Irish fighting spirit</td>\n",
       "      <td>Leicester bin stadium blueprint</td>\n",
       "      <td>United braced for Mexican wave</td>\n",
       "      <td>Auntie back in fashion, even if the dress look...</td>\n",
       "      <td>Shoaib appeal goes to the top</td>\n",
       "      <td>Hussain hurt by 'shambles' but lays blame on e...</td>\n",
       "      <td>England's decade of disasters</td>\n",
       "      <td>Revenge is sweet for jubilant Cronje</td>\n",
       "      <td>...</td>\n",
       "      <td>Putin admits Yeltsin quit to give him a head s...</td>\n",
       "      <td>BBC worst hit as digital TV begins to bite</td>\n",
       "      <td>How much can you pay for...</td>\n",
       "      <td>Christmas glitches</td>\n",
       "      <td>Upending a table, Chopping a line and Scoring ...</td>\n",
       "      <td>Scientific evidence 'unreliable', defence claims</td>\n",
       "      <td>Fusco wins judicial review in extradition case</td>\n",
       "      <td>Rebels thwart Russian advance</td>\n",
       "      <td>Blair orders shake-up of failing NHS</td>\n",
       "      <td>Lessons of law's hard heart</td>\n",
       "    </tr>\n",
       "    <tr>\n",
       "      <th>4</th>\n",
       "      <td>Hitches and Horlocks</td>\n",
       "      <td>Beckham off but United survive</td>\n",
       "      <td>Breast cancer screening</td>\n",
       "      <td>Alan Parker</td>\n",
       "      <td>Guardian readers: are you all whingers?</td>\n",
       "      <td>Hollywood Beyond</td>\n",
       "      <td>Ashes and diamonds</td>\n",
       "      <td>Whingers - a formidable minority</td>\n",
       "      <td>Alan Parker - part two</td>\n",
       "      <td>Thuggery, Toxins and Ties</td>\n",
       "      <td>...</td>\n",
       "      <td>Most everywhere:  UDIs</td>\n",
       "      <td>Most wanted:  Chloe lunettes</td>\n",
       "      <td>Return of the cane 'completely off the agenda'</td>\n",
       "      <td>From Sleepy Hollow to Greeneland</td>\n",
       "      <td>Blunkett outlines vision for over 11s</td>\n",
       "      <td>Embattled Dobson attacks 'play now, pay later'...</td>\n",
       "      <td>Doom and the Dome</td>\n",
       "      <td>What is the north-south divide?</td>\n",
       "      <td>Aitken released from jail</td>\n",
       "      <td>Gone aloft</td>\n",
       "    </tr>\n",
       "  </tbody>\n",
       "</table>\n",
       "<p>5 rows × 25 columns</p>\n",
       "</div>"
      ],
      "text/plain": [
       "                                                Top1  \\\n",
       "0  A 'hindrance to operations': extracts from the...   \n",
       "1                                          Scorecard   \n",
       "2                  Coventry caught on counter by Flo   \n",
       "3                      Pilgrim knows how to progress   \n",
       "4                               Hitches and Horlocks   \n",
       "\n",
       "                                 Top2  \\\n",
       "0                           Scorecard   \n",
       "1                 The best lake scene   \n",
       "2  United's rivals on the road to Rio   \n",
       "3                 Thatcher facing ban   \n",
       "4      Beckham off but United survive   \n",
       "\n",
       "                                            Top3  \\\n",
       "0                Hughes' instant hit buoys Blues   \n",
       "1                  Leader: German sleaze inquiry   \n",
       "2  Thatcher issues defence before trial by video   \n",
       "3        McIlroy calls for Irish fighting spirit   \n",
       "4                        Breast cancer screening   \n",
       "\n",
       "                                            Top4  \\\n",
       "0       Jack gets his skates on at ice-cold Alex   \n",
       "1                                  Cheerio, boyo   \n",
       "2  Police help Smith lay down the law at Everton   \n",
       "3                Leicester bin stadium blueprint   \n",
       "4                                    Alan Parker   \n",
       "\n",
       "                                          Top5  \\\n",
       "0       Chaos as Maracana builds up for United   \n",
       "1                     The main recommendations   \n",
       "2  Tale of Trautmann bears two more retellings   \n",
       "3               United braced for Mexican wave   \n",
       "4      Guardian readers: are you all whingers?   \n",
       "\n",
       "                                                Top6  \\\n",
       "0  Depleted Leicester prevail as Elliott spoils E...   \n",
       "1                             Has Cubie killed fees?   \n",
       "2                                England on the rack   \n",
       "3  Auntie back in fashion, even if the dress look...   \n",
       "4                                   Hollywood Beyond   \n",
       "\n",
       "                                              Top7  \\\n",
       "0                 Hungry Spurs sense rich pickings   \n",
       "1                           Has Cubie killed fees?   \n",
       "2  Pakistan retaliate with call for video of Walsh   \n",
       "3                    Shoaib appeal goes to the top   \n",
       "4                               Ashes and diamonds   \n",
       "\n",
       "                                                Top8  \\\n",
       "0                  Gunners so wide of an easy target   \n",
       "1                             Has Cubie killed fees?   \n",
       "2               Cullinan continues his Cape monopoly   \n",
       "3  Hussain hurt by 'shambles' but lays blame on e...   \n",
       "4                   Whingers - a formidable minority   \n",
       "\n",
       "                                                Top9  \\\n",
       "0      Derby raise a glass to Strupar's debut double   \n",
       "1  Hopkins 'furious' at Foster's lack of Hannibal...   \n",
       "2             McGrath puts India out of their misery   \n",
       "3                      England's decade of disasters   \n",
       "4                             Alan Parker - part two   \n",
       "\n",
       "                                      Top10  ...  \\\n",
       "0  Southgate strikes, Leeds pay the penalty  ...   \n",
       "1                    Has Cubie killed fees?  ...   \n",
       "2            Blair Witch bandwagon rolls on  ...   \n",
       "3      Revenge is sweet for jubilant Cronje  ...   \n",
       "4                 Thuggery, Toxins and Ties  ...   \n",
       "\n",
       "                                               Top16  \\\n",
       "0           Flintoff injury piles on woe for England   \n",
       "1                               On the critical list   \n",
       "2                        South Melbourne (Australia)   \n",
       "3  Putin admits Yeltsin quit to give him a head s...   \n",
       "4                             Most everywhere:  UDIs   \n",
       "\n",
       "                                               Top17  \\\n",
       "0  Hunters threaten Jospin with new battle of the...   \n",
       "1                          The timing of their lives   \n",
       "2                                    Necaxa (Mexico)   \n",
       "3         BBC worst hit as digital TV begins to bite   \n",
       "4                       Most wanted:  Chloe lunettes   \n",
       "\n",
       "                                            Top18  \\\n",
       "0             Kohl's successor drawn into scandal   \n",
       "1                                     Dear doctor   \n",
       "2                             Real Madrid (Spain)   \n",
       "3                     How much can you pay for...   \n",
       "4  Return of the cane 'completely off the agenda'   \n",
       "\n",
       "                                               Top19  \\\n",
       "0               The difference between men and women   \n",
       "1  Irish court halts IRA man's extradition to Nor...   \n",
       "2                          Raja Casablanca (Morocco)   \n",
       "3                                 Christmas glitches   \n",
       "4                   From Sleepy Hollow to Greeneland   \n",
       "\n",
       "                                               Top20  \\\n",
       "0                Sara Denver, nurse turned solicitor   \n",
       "1  Burundi peace initiative fades after rebels re...   \n",
       "2                               Corinthians (Brazil)   \n",
       "3  Upending a table, Chopping a line and Scoring ...   \n",
       "4              Blunkett outlines vision for over 11s   \n",
       "\n",
       "                                               Top21  \\\n",
       "0     Diana's landmine crusade put Tories in a panic   \n",
       "1               PE points the way forward to the ECB   \n",
       "2                                 Tony's pet project   \n",
       "3   Scientific evidence 'unreliable', defence claims   \n",
       "4  Embattled Dobson attacks 'play now, pay later'...   \n",
       "\n",
       "                                               Top22  \\\n",
       "0  Yeltsin's resignation caught opposition flat-f...   \n",
       "1  Campaigners keep up pressure on Nazi war crime...   \n",
       "2                            Al Nassr (Saudi Arabia)   \n",
       "3     Fusco wins judicial review in extradition case   \n",
       "4                                  Doom and the Dome   \n",
       "\n",
       "                             Top23  \\\n",
       "0                 Russian roulette   \n",
       "1                   Jane Ratcliffe   \n",
       "2                Ideal Holmes show   \n",
       "3    Rebels thwart Russian advance   \n",
       "4  What is the north-south divide?   \n",
       "\n",
       "                                               Top24  \\\n",
       "0                                           Sold out   \n",
       "1  Yet more things you wouldn't know without the ...   \n",
       "2               Pinochet leaves hospital after tests   \n",
       "3               Blair orders shake-up of failing NHS   \n",
       "4                          Aitken released from jail   \n",
       "\n",
       "                          Top25  \n",
       "0            Recovering a title  \n",
       "1  Millennium bug fails to bite  \n",
       "2                  Useful links  \n",
       "3   Lessons of law's hard heart  \n",
       "4                    Gone aloft  \n",
       "\n",
       "[5 rows x 25 columns]"
      ]
     },
     "execution_count": 6,
     "metadata": {},
     "output_type": "execute_result"
    }
   ],
   "source": [
    "data.head()"
   ]
  },
  {
   "cell_type": "code",
   "execution_count": 7,
   "id": "85693556",
   "metadata": {
    "execution": {
     "iopub.execute_input": "2022-12-28T05:42:03.381810Z",
     "iopub.status.busy": "2022-12-28T05:42:03.381399Z",
     "iopub.status.idle": "2022-12-28T05:42:03.387508Z",
     "shell.execute_reply": "2022-12-28T05:42:03.386784Z"
    },
    "papermill": {
     "duration": 0.021101,
     "end_time": "2022-12-28T05:42:03.389520",
     "exception": false,
     "start_time": "2022-12-28T05:42:03.368419",
     "status": "completed"
    },
    "tags": []
   },
   "outputs": [
    {
     "data": {
      "text/plain": [
       "Index(['Top1', 'Top2', 'Top3', 'Top4', 'Top5', 'Top6', 'Top7', 'Top8', 'Top9',\n",
       "       'Top10', 'Top11', 'Top12', 'Top13', 'Top14', 'Top15', 'Top16', 'Top17',\n",
       "       'Top18', 'Top19', 'Top20', 'Top21', 'Top22', 'Top23', 'Top24', 'Top25'],\n",
       "      dtype='object')"
      ]
     },
     "execution_count": 7,
     "metadata": {},
     "output_type": "execute_result"
    }
   ],
   "source": [
    "data.columns"
   ]
  },
  {
   "cell_type": "code",
   "execution_count": 8,
   "id": "af1b7d3a",
   "metadata": {
    "execution": {
     "iopub.execute_input": "2022-12-28T05:42:03.417412Z",
     "iopub.status.busy": "2022-12-28T05:42:03.417012Z",
     "iopub.status.idle": "2022-12-28T05:42:03.420979Z",
     "shell.execute_reply": "2022-12-28T05:42:03.420268Z"
    },
    "papermill": {
     "duration": 0.019421,
     "end_time": "2022-12-28T05:42:03.422968",
     "exception": false,
     "start_time": "2022-12-28T05:42:03.403547",
     "status": "completed"
    },
    "tags": []
   },
   "outputs": [],
   "source": [
    "new_index= [str(i) for i in range(0,25)]"
   ]
  },
  {
   "cell_type": "code",
   "execution_count": 9,
   "id": "4e38d16c",
   "metadata": {
    "execution": {
     "iopub.execute_input": "2022-12-28T05:42:03.448465Z",
     "iopub.status.busy": "2022-12-28T05:42:03.447861Z",
     "iopub.status.idle": "2022-12-28T05:42:03.452221Z",
     "shell.execute_reply": "2022-12-28T05:42:03.451308Z"
    },
    "papermill": {
     "duration": 0.019723,
     "end_time": "2022-12-28T05:42:03.454399",
     "exception": false,
     "start_time": "2022-12-28T05:42:03.434676",
     "status": "completed"
    },
    "tags": []
   },
   "outputs": [],
   "source": [
    "data.columns= new_index"
   ]
  },
  {
   "cell_type": "code",
   "execution_count": 10,
   "id": "1e0720c1",
   "metadata": {
    "execution": {
     "iopub.execute_input": "2022-12-28T05:42:03.479974Z",
     "iopub.status.busy": "2022-12-28T05:42:03.479592Z",
     "iopub.status.idle": "2022-12-28T05:42:03.486535Z",
     "shell.execute_reply": "2022-12-28T05:42:03.485471Z"
    },
    "papermill": {
     "duration": 0.022548,
     "end_time": "2022-12-28T05:42:03.488686",
     "exception": false,
     "start_time": "2022-12-28T05:42:03.466138",
     "status": "completed"
    },
    "tags": []
   },
   "outputs": [
    {
     "data": {
      "text/plain": [
       "Index(['0', '1', '2', '3', '4', '5', '6', '7', '8', '9', '10', '11', '12',\n",
       "       '13', '14', '15', '16', '17', '18', '19', '20', '21', '22', '23', '24'],\n",
       "      dtype='object')"
      ]
     },
     "execution_count": 10,
     "metadata": {},
     "output_type": "execute_result"
    }
   ],
   "source": [
    "data.columns"
   ]
  },
  {
   "cell_type": "code",
   "execution_count": 11,
   "id": "dabd73f4",
   "metadata": {
    "execution": {
     "iopub.execute_input": "2022-12-28T05:42:03.516415Z",
     "iopub.status.busy": "2022-12-28T05:42:03.515832Z",
     "iopub.status.idle": "2022-12-28T05:42:03.530276Z",
     "shell.execute_reply": "2022-12-28T05:42:03.527770Z"
    },
    "papermill": {
     "duration": 0.03245,
     "end_time": "2022-12-28T05:42:03.533091",
     "exception": false,
     "start_time": "2022-12-28T05:42:03.500641",
     "status": "completed"
    },
    "tags": []
   },
   "outputs": [],
   "source": [
    "data.replace('{^a-zA-Z}',' ',inplace= True)"
   ]
  },
  {
   "cell_type": "code",
   "execution_count": 12,
   "id": "7ff5b27d",
   "metadata": {
    "execution": {
     "iopub.execute_input": "2022-12-28T05:42:03.565527Z",
     "iopub.status.busy": "2022-12-28T05:42:03.564916Z",
     "iopub.status.idle": "2022-12-28T05:42:03.595201Z",
     "shell.execute_reply": "2022-12-28T05:42:03.594095Z"
    },
    "papermill": {
     "duration": 0.049142,
     "end_time": "2022-12-28T05:42:03.597453",
     "exception": false,
     "start_time": "2022-12-28T05:42:03.548311",
     "status": "completed"
    },
    "tags": []
   },
   "outputs": [
    {
     "data": {
      "text/html": [
       "<div>\n",
       "<style scoped>\n",
       "    .dataframe tbody tr th:only-of-type {\n",
       "        vertical-align: middle;\n",
       "    }\n",
       "\n",
       "    .dataframe tbody tr th {\n",
       "        vertical-align: top;\n",
       "    }\n",
       "\n",
       "    .dataframe thead th {\n",
       "        text-align: right;\n",
       "    }\n",
       "</style>\n",
       "<table border=\"1\" class=\"dataframe\">\n",
       "  <thead>\n",
       "    <tr style=\"text-align: right;\">\n",
       "      <th></th>\n",
       "      <th>0</th>\n",
       "      <th>1</th>\n",
       "      <th>2</th>\n",
       "      <th>3</th>\n",
       "      <th>4</th>\n",
       "      <th>5</th>\n",
       "      <th>6</th>\n",
       "      <th>7</th>\n",
       "      <th>8</th>\n",
       "      <th>9</th>\n",
       "      <th>...</th>\n",
       "      <th>15</th>\n",
       "      <th>16</th>\n",
       "      <th>17</th>\n",
       "      <th>18</th>\n",
       "      <th>19</th>\n",
       "      <th>20</th>\n",
       "      <th>21</th>\n",
       "      <th>22</th>\n",
       "      <th>23</th>\n",
       "      <th>24</th>\n",
       "    </tr>\n",
       "  </thead>\n",
       "  <tbody>\n",
       "    <tr>\n",
       "      <th>0</th>\n",
       "      <td>A 'hindrance to operations': extracts from the...</td>\n",
       "      <td>Scorecard</td>\n",
       "      <td>Hughes' instant hit buoys Blues</td>\n",
       "      <td>Jack gets his skates on at ice-cold Alex</td>\n",
       "      <td>Chaos as Maracana builds up for United</td>\n",
       "      <td>Depleted Leicester prevail as Elliott spoils E...</td>\n",
       "      <td>Hungry Spurs sense rich pickings</td>\n",
       "      <td>Gunners so wide of an easy target</td>\n",
       "      <td>Derby raise a glass to Strupar's debut double</td>\n",
       "      <td>Southgate strikes, Leeds pay the penalty</td>\n",
       "      <td>...</td>\n",
       "      <td>Flintoff injury piles on woe for England</td>\n",
       "      <td>Hunters threaten Jospin with new battle of the...</td>\n",
       "      <td>Kohl's successor drawn into scandal</td>\n",
       "      <td>The difference between men and women</td>\n",
       "      <td>Sara Denver, nurse turned solicitor</td>\n",
       "      <td>Diana's landmine crusade put Tories in a panic</td>\n",
       "      <td>Yeltsin's resignation caught opposition flat-f...</td>\n",
       "      <td>Russian roulette</td>\n",
       "      <td>Sold out</td>\n",
       "      <td>Recovering a title</td>\n",
       "    </tr>\n",
       "    <tr>\n",
       "      <th>1</th>\n",
       "      <td>Scorecard</td>\n",
       "      <td>The best lake scene</td>\n",
       "      <td>Leader: German sleaze inquiry</td>\n",
       "      <td>Cheerio, boyo</td>\n",
       "      <td>The main recommendations</td>\n",
       "      <td>Has Cubie killed fees?</td>\n",
       "      <td>Has Cubie killed fees?</td>\n",
       "      <td>Has Cubie killed fees?</td>\n",
       "      <td>Hopkins 'furious' at Foster's lack of Hannibal...</td>\n",
       "      <td>Has Cubie killed fees?</td>\n",
       "      <td>...</td>\n",
       "      <td>On the critical list</td>\n",
       "      <td>The timing of their lives</td>\n",
       "      <td>Dear doctor</td>\n",
       "      <td>Irish court halts IRA man's extradition to Nor...</td>\n",
       "      <td>Burundi peace initiative fades after rebels re...</td>\n",
       "      <td>PE points the way forward to the ECB</td>\n",
       "      <td>Campaigners keep up pressure on Nazi war crime...</td>\n",
       "      <td>Jane Ratcliffe</td>\n",
       "      <td>Yet more things you wouldn't know without the ...</td>\n",
       "      <td>Millennium bug fails to bite</td>\n",
       "    </tr>\n",
       "    <tr>\n",
       "      <th>2</th>\n",
       "      <td>Coventry caught on counter by Flo</td>\n",
       "      <td>United's rivals on the road to Rio</td>\n",
       "      <td>Thatcher issues defence before trial by video</td>\n",
       "      <td>Police help Smith lay down the law at Everton</td>\n",
       "      <td>Tale of Trautmann bears two more retellings</td>\n",
       "      <td>England on the rack</td>\n",
       "      <td>Pakistan retaliate with call for video of Walsh</td>\n",
       "      <td>Cullinan continues his Cape monopoly</td>\n",
       "      <td>McGrath puts India out of their misery</td>\n",
       "      <td>Blair Witch bandwagon rolls on</td>\n",
       "      <td>...</td>\n",
       "      <td>South Melbourne (Australia)</td>\n",
       "      <td>Necaxa (Mexico)</td>\n",
       "      <td>Real Madrid (Spain)</td>\n",
       "      <td>Raja Casablanca (Morocco)</td>\n",
       "      <td>Corinthians (Brazil)</td>\n",
       "      <td>Tony's pet project</td>\n",
       "      <td>Al Nassr (Saudi Arabia)</td>\n",
       "      <td>Ideal Holmes show</td>\n",
       "      <td>Pinochet leaves hospital after tests</td>\n",
       "      <td>Useful links</td>\n",
       "    </tr>\n",
       "    <tr>\n",
       "      <th>3</th>\n",
       "      <td>Pilgrim knows how to progress</td>\n",
       "      <td>Thatcher facing ban</td>\n",
       "      <td>McIlroy calls for Irish fighting spirit</td>\n",
       "      <td>Leicester bin stadium blueprint</td>\n",
       "      <td>United braced for Mexican wave</td>\n",
       "      <td>Auntie back in fashion, even if the dress look...</td>\n",
       "      <td>Shoaib appeal goes to the top</td>\n",
       "      <td>Hussain hurt by 'shambles' but lays blame on e...</td>\n",
       "      <td>England's decade of disasters</td>\n",
       "      <td>Revenge is sweet for jubilant Cronje</td>\n",
       "      <td>...</td>\n",
       "      <td>Putin admits Yeltsin quit to give him a head s...</td>\n",
       "      <td>BBC worst hit as digital TV begins to bite</td>\n",
       "      <td>How much can you pay for...</td>\n",
       "      <td>Christmas glitches</td>\n",
       "      <td>Upending a table, Chopping a line and Scoring ...</td>\n",
       "      <td>Scientific evidence 'unreliable', defence claims</td>\n",
       "      <td>Fusco wins judicial review in extradition case</td>\n",
       "      <td>Rebels thwart Russian advance</td>\n",
       "      <td>Blair orders shake-up of failing NHS</td>\n",
       "      <td>Lessons of law's hard heart</td>\n",
       "    </tr>\n",
       "    <tr>\n",
       "      <th>4</th>\n",
       "      <td>Hitches and Horlocks</td>\n",
       "      <td>Beckham off but United survive</td>\n",
       "      <td>Breast cancer screening</td>\n",
       "      <td>Alan Parker</td>\n",
       "      <td>Guardian readers: are you all whingers?</td>\n",
       "      <td>Hollywood Beyond</td>\n",
       "      <td>Ashes and diamonds</td>\n",
       "      <td>Whingers - a formidable minority</td>\n",
       "      <td>Alan Parker - part two</td>\n",
       "      <td>Thuggery, Toxins and Ties</td>\n",
       "      <td>...</td>\n",
       "      <td>Most everywhere:  UDIs</td>\n",
       "      <td>Most wanted:  Chloe lunettes</td>\n",
       "      <td>Return of the cane 'completely off the agenda'</td>\n",
       "      <td>From Sleepy Hollow to Greeneland</td>\n",
       "      <td>Blunkett outlines vision for over 11s</td>\n",
       "      <td>Embattled Dobson attacks 'play now, pay later'...</td>\n",
       "      <td>Doom and the Dome</td>\n",
       "      <td>What is the north-south divide?</td>\n",
       "      <td>Aitken released from jail</td>\n",
       "      <td>Gone aloft</td>\n",
       "    </tr>\n",
       "  </tbody>\n",
       "</table>\n",
       "<p>5 rows × 25 columns</p>\n",
       "</div>"
      ],
      "text/plain": [
       "                                                   0  \\\n",
       "0  A 'hindrance to operations': extracts from the...   \n",
       "1                                          Scorecard   \n",
       "2                  Coventry caught on counter by Flo   \n",
       "3                      Pilgrim knows how to progress   \n",
       "4                               Hitches and Horlocks   \n",
       "\n",
       "                                    1  \\\n",
       "0                           Scorecard   \n",
       "1                 The best lake scene   \n",
       "2  United's rivals on the road to Rio   \n",
       "3                 Thatcher facing ban   \n",
       "4      Beckham off but United survive   \n",
       "\n",
       "                                               2  \\\n",
       "0                Hughes' instant hit buoys Blues   \n",
       "1                  Leader: German sleaze inquiry   \n",
       "2  Thatcher issues defence before trial by video   \n",
       "3        McIlroy calls for Irish fighting spirit   \n",
       "4                        Breast cancer screening   \n",
       "\n",
       "                                               3  \\\n",
       "0       Jack gets his skates on at ice-cold Alex   \n",
       "1                                  Cheerio, boyo   \n",
       "2  Police help Smith lay down the law at Everton   \n",
       "3                Leicester bin stadium blueprint   \n",
       "4                                    Alan Parker   \n",
       "\n",
       "                                             4  \\\n",
       "0       Chaos as Maracana builds up for United   \n",
       "1                     The main recommendations   \n",
       "2  Tale of Trautmann bears two more retellings   \n",
       "3               United braced for Mexican wave   \n",
       "4      Guardian readers: are you all whingers?   \n",
       "\n",
       "                                                   5  \\\n",
       "0  Depleted Leicester prevail as Elliott spoils E...   \n",
       "1                             Has Cubie killed fees?   \n",
       "2                                England on the rack   \n",
       "3  Auntie back in fashion, even if the dress look...   \n",
       "4                                   Hollywood Beyond   \n",
       "\n",
       "                                                 6  \\\n",
       "0                 Hungry Spurs sense rich pickings   \n",
       "1                           Has Cubie killed fees?   \n",
       "2  Pakistan retaliate with call for video of Walsh   \n",
       "3                    Shoaib appeal goes to the top   \n",
       "4                               Ashes and diamonds   \n",
       "\n",
       "                                                   7  \\\n",
       "0                  Gunners so wide of an easy target   \n",
       "1                             Has Cubie killed fees?   \n",
       "2               Cullinan continues his Cape monopoly   \n",
       "3  Hussain hurt by 'shambles' but lays blame on e...   \n",
       "4                   Whingers - a formidable minority   \n",
       "\n",
       "                                                   8  \\\n",
       "0      Derby raise a glass to Strupar's debut double   \n",
       "1  Hopkins 'furious' at Foster's lack of Hannibal...   \n",
       "2             McGrath puts India out of their misery   \n",
       "3                      England's decade of disasters   \n",
       "4                             Alan Parker - part two   \n",
       "\n",
       "                                          9  ...  \\\n",
       "0  Southgate strikes, Leeds pay the penalty  ...   \n",
       "1                    Has Cubie killed fees?  ...   \n",
       "2            Blair Witch bandwagon rolls on  ...   \n",
       "3      Revenge is sweet for jubilant Cronje  ...   \n",
       "4                 Thuggery, Toxins and Ties  ...   \n",
       "\n",
       "                                                  15  \\\n",
       "0           Flintoff injury piles on woe for England   \n",
       "1                               On the critical list   \n",
       "2                        South Melbourne (Australia)   \n",
       "3  Putin admits Yeltsin quit to give him a head s...   \n",
       "4                             Most everywhere:  UDIs   \n",
       "\n",
       "                                                  16  \\\n",
       "0  Hunters threaten Jospin with new battle of the...   \n",
       "1                          The timing of their lives   \n",
       "2                                    Necaxa (Mexico)   \n",
       "3         BBC worst hit as digital TV begins to bite   \n",
       "4                       Most wanted:  Chloe lunettes   \n",
       "\n",
       "                                               17  \\\n",
       "0             Kohl's successor drawn into scandal   \n",
       "1                                     Dear doctor   \n",
       "2                             Real Madrid (Spain)   \n",
       "3                     How much can you pay for...   \n",
       "4  Return of the cane 'completely off the agenda'   \n",
       "\n",
       "                                                  18  \\\n",
       "0               The difference between men and women   \n",
       "1  Irish court halts IRA man's extradition to Nor...   \n",
       "2                          Raja Casablanca (Morocco)   \n",
       "3                                 Christmas glitches   \n",
       "4                   From Sleepy Hollow to Greeneland   \n",
       "\n",
       "                                                  19  \\\n",
       "0                Sara Denver, nurse turned solicitor   \n",
       "1  Burundi peace initiative fades after rebels re...   \n",
       "2                               Corinthians (Brazil)   \n",
       "3  Upending a table, Chopping a line and Scoring ...   \n",
       "4              Blunkett outlines vision for over 11s   \n",
       "\n",
       "                                                  20  \\\n",
       "0     Diana's landmine crusade put Tories in a panic   \n",
       "1               PE points the way forward to the ECB   \n",
       "2                                 Tony's pet project   \n",
       "3   Scientific evidence 'unreliable', defence claims   \n",
       "4  Embattled Dobson attacks 'play now, pay later'...   \n",
       "\n",
       "                                                  21  \\\n",
       "0  Yeltsin's resignation caught opposition flat-f...   \n",
       "1  Campaigners keep up pressure on Nazi war crime...   \n",
       "2                            Al Nassr (Saudi Arabia)   \n",
       "3     Fusco wins judicial review in extradition case   \n",
       "4                                  Doom and the Dome   \n",
       "\n",
       "                                22  \\\n",
       "0                 Russian roulette   \n",
       "1                   Jane Ratcliffe   \n",
       "2                Ideal Holmes show   \n",
       "3    Rebels thwart Russian advance   \n",
       "4  What is the north-south divide?   \n",
       "\n",
       "                                                  23  \\\n",
       "0                                           Sold out   \n",
       "1  Yet more things you wouldn't know without the ...   \n",
       "2               Pinochet leaves hospital after tests   \n",
       "3               Blair orders shake-up of failing NHS   \n",
       "4                          Aitken released from jail   \n",
       "\n",
       "                             24  \n",
       "0            Recovering a title  \n",
       "1  Millennium bug fails to bite  \n",
       "2                  Useful links  \n",
       "3   Lessons of law's hard heart  \n",
       "4                    Gone aloft  \n",
       "\n",
       "[5 rows x 25 columns]"
      ]
     },
     "execution_count": 12,
     "metadata": {},
     "output_type": "execute_result"
    }
   ],
   "source": [
    "data.head()"
   ]
  },
  {
   "cell_type": "code",
   "execution_count": 13,
   "id": "bf5b714c",
   "metadata": {
    "execution": {
     "iopub.execute_input": "2022-12-28T05:42:03.624731Z",
     "iopub.status.busy": "2022-12-28T05:42:03.624347Z",
     "iopub.status.idle": "2022-12-28T05:42:03.631398Z",
     "shell.execute_reply": "2022-12-28T05:42:03.630288Z"
    },
    "papermill": {
     "duration": 0.022971,
     "end_time": "2022-12-28T05:42:03.633588",
     "exception": false,
     "start_time": "2022-12-28T05:42:03.610617",
     "status": "completed"
    },
    "tags": []
   },
   "outputs": [
    {
     "data": {
      "text/plain": [
       "Int64Index([   0,    1,    2,    3,    4,    5,    6,    7,    8,    9,\n",
       "            ...\n",
       "            3965, 3966, 3967, 3968, 3969, 3970, 3971, 3972, 3973, 3974],\n",
       "           dtype='int64', length=3975)"
      ]
     },
     "execution_count": 13,
     "metadata": {},
     "output_type": "execute_result"
    }
   ],
   "source": [
    "data.index"
   ]
  },
  {
   "cell_type": "code",
   "execution_count": 14,
   "id": "c04f823c",
   "metadata": {
    "execution": {
     "iopub.execute_input": "2022-12-28T05:42:03.660254Z",
     "iopub.status.busy": "2022-12-28T05:42:03.659832Z",
     "iopub.status.idle": "2022-12-28T05:42:03.664175Z",
     "shell.execute_reply": "2022-12-28T05:42:03.663009Z"
    },
    "papermill": {
     "duration": 0.020532,
     "end_time": "2022-12-28T05:42:03.666378",
     "exception": false,
     "start_time": "2022-12-28T05:42:03.645846",
     "status": "completed"
    },
    "tags": []
   },
   "outputs": [],
   "source": [
    "# data['1']"
   ]
  },
  {
   "cell_type": "code",
   "execution_count": 15,
   "id": "ad775ac2",
   "metadata": {
    "execution": {
     "iopub.execute_input": "2022-12-28T05:42:03.693350Z",
     "iopub.status.busy": "2022-12-28T05:42:03.692419Z",
     "iopub.status.idle": "2022-12-28T05:42:03.769150Z",
     "shell.execute_reply": "2022-12-28T05:42:03.767909Z"
    },
    "papermill": {
     "duration": 0.093094,
     "end_time": "2022-12-28T05:42:03.771947",
     "exception": false,
     "start_time": "2022-12-28T05:42:03.678853",
     "status": "completed"
    },
    "tags": []
   },
   "outputs": [],
   "source": [
    "for index in new_index:\n",
    "    data[index]= data[index].str.lower()"
   ]
  },
  {
   "cell_type": "code",
   "execution_count": 16,
   "id": "2c8bec9d",
   "metadata": {
    "execution": {
     "iopub.execute_input": "2022-12-28T05:42:03.802729Z",
     "iopub.status.busy": "2022-12-28T05:42:03.801279Z",
     "iopub.status.idle": "2022-12-28T05:42:03.831480Z",
     "shell.execute_reply": "2022-12-28T05:42:03.830303Z"
    },
    "papermill": {
     "duration": 0.048237,
     "end_time": "2022-12-28T05:42:03.833977",
     "exception": false,
     "start_time": "2022-12-28T05:42:03.785740",
     "status": "completed"
    },
    "tags": []
   },
   "outputs": [
    {
     "data": {
      "text/html": [
       "<div>\n",
       "<style scoped>\n",
       "    .dataframe tbody tr th:only-of-type {\n",
       "        vertical-align: middle;\n",
       "    }\n",
       "\n",
       "    .dataframe tbody tr th {\n",
       "        vertical-align: top;\n",
       "    }\n",
       "\n",
       "    .dataframe thead th {\n",
       "        text-align: right;\n",
       "    }\n",
       "</style>\n",
       "<table border=\"1\" class=\"dataframe\">\n",
       "  <thead>\n",
       "    <tr style=\"text-align: right;\">\n",
       "      <th></th>\n",
       "      <th>0</th>\n",
       "      <th>1</th>\n",
       "      <th>2</th>\n",
       "      <th>3</th>\n",
       "      <th>4</th>\n",
       "      <th>5</th>\n",
       "      <th>6</th>\n",
       "      <th>7</th>\n",
       "      <th>8</th>\n",
       "      <th>9</th>\n",
       "      <th>...</th>\n",
       "      <th>15</th>\n",
       "      <th>16</th>\n",
       "      <th>17</th>\n",
       "      <th>18</th>\n",
       "      <th>19</th>\n",
       "      <th>20</th>\n",
       "      <th>21</th>\n",
       "      <th>22</th>\n",
       "      <th>23</th>\n",
       "      <th>24</th>\n",
       "    </tr>\n",
       "  </thead>\n",
       "  <tbody>\n",
       "    <tr>\n",
       "      <th>0</th>\n",
       "      <td>a 'hindrance to operations': extracts from the...</td>\n",
       "      <td>scorecard</td>\n",
       "      <td>hughes' instant hit buoys blues</td>\n",
       "      <td>jack gets his skates on at ice-cold alex</td>\n",
       "      <td>chaos as maracana builds up for united</td>\n",
       "      <td>depleted leicester prevail as elliott spoils e...</td>\n",
       "      <td>hungry spurs sense rich pickings</td>\n",
       "      <td>gunners so wide of an easy target</td>\n",
       "      <td>derby raise a glass to strupar's debut double</td>\n",
       "      <td>southgate strikes, leeds pay the penalty</td>\n",
       "      <td>...</td>\n",
       "      <td>flintoff injury piles on woe for england</td>\n",
       "      <td>hunters threaten jospin with new battle of the...</td>\n",
       "      <td>kohl's successor drawn into scandal</td>\n",
       "      <td>the difference between men and women</td>\n",
       "      <td>sara denver, nurse turned solicitor</td>\n",
       "      <td>diana's landmine crusade put tories in a panic</td>\n",
       "      <td>yeltsin's resignation caught opposition flat-f...</td>\n",
       "      <td>russian roulette</td>\n",
       "      <td>sold out</td>\n",
       "      <td>recovering a title</td>\n",
       "    </tr>\n",
       "    <tr>\n",
       "      <th>1</th>\n",
       "      <td>scorecard</td>\n",
       "      <td>the best lake scene</td>\n",
       "      <td>leader: german sleaze inquiry</td>\n",
       "      <td>cheerio, boyo</td>\n",
       "      <td>the main recommendations</td>\n",
       "      <td>has cubie killed fees?</td>\n",
       "      <td>has cubie killed fees?</td>\n",
       "      <td>has cubie killed fees?</td>\n",
       "      <td>hopkins 'furious' at foster's lack of hannibal...</td>\n",
       "      <td>has cubie killed fees?</td>\n",
       "      <td>...</td>\n",
       "      <td>on the critical list</td>\n",
       "      <td>the timing of their lives</td>\n",
       "      <td>dear doctor</td>\n",
       "      <td>irish court halts ira man's extradition to nor...</td>\n",
       "      <td>burundi peace initiative fades after rebels re...</td>\n",
       "      <td>pe points the way forward to the ecb</td>\n",
       "      <td>campaigners keep up pressure on nazi war crime...</td>\n",
       "      <td>jane ratcliffe</td>\n",
       "      <td>yet more things you wouldn't know without the ...</td>\n",
       "      <td>millennium bug fails to bite</td>\n",
       "    </tr>\n",
       "    <tr>\n",
       "      <th>2</th>\n",
       "      <td>coventry caught on counter by flo</td>\n",
       "      <td>united's rivals on the road to rio</td>\n",
       "      <td>thatcher issues defence before trial by video</td>\n",
       "      <td>police help smith lay down the law at everton</td>\n",
       "      <td>tale of trautmann bears two more retellings</td>\n",
       "      <td>england on the rack</td>\n",
       "      <td>pakistan retaliate with call for video of walsh</td>\n",
       "      <td>cullinan continues his cape monopoly</td>\n",
       "      <td>mcgrath puts india out of their misery</td>\n",
       "      <td>blair witch bandwagon rolls on</td>\n",
       "      <td>...</td>\n",
       "      <td>south melbourne (australia)</td>\n",
       "      <td>necaxa (mexico)</td>\n",
       "      <td>real madrid (spain)</td>\n",
       "      <td>raja casablanca (morocco)</td>\n",
       "      <td>corinthians (brazil)</td>\n",
       "      <td>tony's pet project</td>\n",
       "      <td>al nassr (saudi arabia)</td>\n",
       "      <td>ideal holmes show</td>\n",
       "      <td>pinochet leaves hospital after tests</td>\n",
       "      <td>useful links</td>\n",
       "    </tr>\n",
       "    <tr>\n",
       "      <th>3</th>\n",
       "      <td>pilgrim knows how to progress</td>\n",
       "      <td>thatcher facing ban</td>\n",
       "      <td>mcilroy calls for irish fighting spirit</td>\n",
       "      <td>leicester bin stadium blueprint</td>\n",
       "      <td>united braced for mexican wave</td>\n",
       "      <td>auntie back in fashion, even if the dress look...</td>\n",
       "      <td>shoaib appeal goes to the top</td>\n",
       "      <td>hussain hurt by 'shambles' but lays blame on e...</td>\n",
       "      <td>england's decade of disasters</td>\n",
       "      <td>revenge is sweet for jubilant cronje</td>\n",
       "      <td>...</td>\n",
       "      <td>putin admits yeltsin quit to give him a head s...</td>\n",
       "      <td>bbc worst hit as digital tv begins to bite</td>\n",
       "      <td>how much can you pay for...</td>\n",
       "      <td>christmas glitches</td>\n",
       "      <td>upending a table, chopping a line and scoring ...</td>\n",
       "      <td>scientific evidence 'unreliable', defence claims</td>\n",
       "      <td>fusco wins judicial review in extradition case</td>\n",
       "      <td>rebels thwart russian advance</td>\n",
       "      <td>blair orders shake-up of failing nhs</td>\n",
       "      <td>lessons of law's hard heart</td>\n",
       "    </tr>\n",
       "    <tr>\n",
       "      <th>4</th>\n",
       "      <td>hitches and horlocks</td>\n",
       "      <td>beckham off but united survive</td>\n",
       "      <td>breast cancer screening</td>\n",
       "      <td>alan parker</td>\n",
       "      <td>guardian readers: are you all whingers?</td>\n",
       "      <td>hollywood beyond</td>\n",
       "      <td>ashes and diamonds</td>\n",
       "      <td>whingers - a formidable minority</td>\n",
       "      <td>alan parker - part two</td>\n",
       "      <td>thuggery, toxins and ties</td>\n",
       "      <td>...</td>\n",
       "      <td>most everywhere:  udis</td>\n",
       "      <td>most wanted:  chloe lunettes</td>\n",
       "      <td>return of the cane 'completely off the agenda'</td>\n",
       "      <td>from sleepy hollow to greeneland</td>\n",
       "      <td>blunkett outlines vision for over 11s</td>\n",
       "      <td>embattled dobson attacks 'play now, pay later'...</td>\n",
       "      <td>doom and the dome</td>\n",
       "      <td>what is the north-south divide?</td>\n",
       "      <td>aitken released from jail</td>\n",
       "      <td>gone aloft</td>\n",
       "    </tr>\n",
       "  </tbody>\n",
       "</table>\n",
       "<p>5 rows × 25 columns</p>\n",
       "</div>"
      ],
      "text/plain": [
       "                                                   0  \\\n",
       "0  a 'hindrance to operations': extracts from the...   \n",
       "1                                          scorecard   \n",
       "2                  coventry caught on counter by flo   \n",
       "3                      pilgrim knows how to progress   \n",
       "4                               hitches and horlocks   \n",
       "\n",
       "                                    1  \\\n",
       "0                           scorecard   \n",
       "1                 the best lake scene   \n",
       "2  united's rivals on the road to rio   \n",
       "3                 thatcher facing ban   \n",
       "4      beckham off but united survive   \n",
       "\n",
       "                                               2  \\\n",
       "0                hughes' instant hit buoys blues   \n",
       "1                  leader: german sleaze inquiry   \n",
       "2  thatcher issues defence before trial by video   \n",
       "3        mcilroy calls for irish fighting spirit   \n",
       "4                        breast cancer screening   \n",
       "\n",
       "                                               3  \\\n",
       "0       jack gets his skates on at ice-cold alex   \n",
       "1                                  cheerio, boyo   \n",
       "2  police help smith lay down the law at everton   \n",
       "3                leicester bin stadium blueprint   \n",
       "4                                    alan parker   \n",
       "\n",
       "                                             4  \\\n",
       "0       chaos as maracana builds up for united   \n",
       "1                     the main recommendations   \n",
       "2  tale of trautmann bears two more retellings   \n",
       "3               united braced for mexican wave   \n",
       "4      guardian readers: are you all whingers?   \n",
       "\n",
       "                                                   5  \\\n",
       "0  depleted leicester prevail as elliott spoils e...   \n",
       "1                             has cubie killed fees?   \n",
       "2                                england on the rack   \n",
       "3  auntie back in fashion, even if the dress look...   \n",
       "4                                   hollywood beyond   \n",
       "\n",
       "                                                 6  \\\n",
       "0                 hungry spurs sense rich pickings   \n",
       "1                           has cubie killed fees?   \n",
       "2  pakistan retaliate with call for video of walsh   \n",
       "3                    shoaib appeal goes to the top   \n",
       "4                               ashes and diamonds   \n",
       "\n",
       "                                                   7  \\\n",
       "0                  gunners so wide of an easy target   \n",
       "1                             has cubie killed fees?   \n",
       "2               cullinan continues his cape monopoly   \n",
       "3  hussain hurt by 'shambles' but lays blame on e...   \n",
       "4                   whingers - a formidable minority   \n",
       "\n",
       "                                                   8  \\\n",
       "0      derby raise a glass to strupar's debut double   \n",
       "1  hopkins 'furious' at foster's lack of hannibal...   \n",
       "2             mcgrath puts india out of their misery   \n",
       "3                      england's decade of disasters   \n",
       "4                             alan parker - part two   \n",
       "\n",
       "                                          9  ...  \\\n",
       "0  southgate strikes, leeds pay the penalty  ...   \n",
       "1                    has cubie killed fees?  ...   \n",
       "2            blair witch bandwagon rolls on  ...   \n",
       "3      revenge is sweet for jubilant cronje  ...   \n",
       "4                 thuggery, toxins and ties  ...   \n",
       "\n",
       "                                                  15  \\\n",
       "0           flintoff injury piles on woe for england   \n",
       "1                               on the critical list   \n",
       "2                        south melbourne (australia)   \n",
       "3  putin admits yeltsin quit to give him a head s...   \n",
       "4                             most everywhere:  udis   \n",
       "\n",
       "                                                  16  \\\n",
       "0  hunters threaten jospin with new battle of the...   \n",
       "1                          the timing of their lives   \n",
       "2                                    necaxa (mexico)   \n",
       "3         bbc worst hit as digital tv begins to bite   \n",
       "4                       most wanted:  chloe lunettes   \n",
       "\n",
       "                                               17  \\\n",
       "0             kohl's successor drawn into scandal   \n",
       "1                                     dear doctor   \n",
       "2                             real madrid (spain)   \n",
       "3                     how much can you pay for...   \n",
       "4  return of the cane 'completely off the agenda'   \n",
       "\n",
       "                                                  18  \\\n",
       "0               the difference between men and women   \n",
       "1  irish court halts ira man's extradition to nor...   \n",
       "2                          raja casablanca (morocco)   \n",
       "3                                 christmas glitches   \n",
       "4                   from sleepy hollow to greeneland   \n",
       "\n",
       "                                                  19  \\\n",
       "0                sara denver, nurse turned solicitor   \n",
       "1  burundi peace initiative fades after rebels re...   \n",
       "2                               corinthians (brazil)   \n",
       "3  upending a table, chopping a line and scoring ...   \n",
       "4              blunkett outlines vision for over 11s   \n",
       "\n",
       "                                                  20  \\\n",
       "0     diana's landmine crusade put tories in a panic   \n",
       "1               pe points the way forward to the ecb   \n",
       "2                                 tony's pet project   \n",
       "3   scientific evidence 'unreliable', defence claims   \n",
       "4  embattled dobson attacks 'play now, pay later'...   \n",
       "\n",
       "                                                  21  \\\n",
       "0  yeltsin's resignation caught opposition flat-f...   \n",
       "1  campaigners keep up pressure on nazi war crime...   \n",
       "2                            al nassr (saudi arabia)   \n",
       "3     fusco wins judicial review in extradition case   \n",
       "4                                  doom and the dome   \n",
       "\n",
       "                                22  \\\n",
       "0                 russian roulette   \n",
       "1                   jane ratcliffe   \n",
       "2                ideal holmes show   \n",
       "3    rebels thwart russian advance   \n",
       "4  what is the north-south divide?   \n",
       "\n",
       "                                                  23  \\\n",
       "0                                           sold out   \n",
       "1  yet more things you wouldn't know without the ...   \n",
       "2               pinochet leaves hospital after tests   \n",
       "3               blair orders shake-up of failing nhs   \n",
       "4                          aitken released from jail   \n",
       "\n",
       "                             24  \n",
       "0            recovering a title  \n",
       "1  millennium bug fails to bite  \n",
       "2                  useful links  \n",
       "3   lessons of law's hard heart  \n",
       "4                    gone aloft  \n",
       "\n",
       "[5 rows x 25 columns]"
      ]
     },
     "execution_count": 16,
     "metadata": {},
     "output_type": "execute_result"
    }
   ],
   "source": [
    "data.head()"
   ]
  },
  {
   "cell_type": "code",
   "execution_count": 17,
   "id": "0b230a88",
   "metadata": {
    "execution": {
     "iopub.execute_input": "2022-12-28T05:42:03.862545Z",
     "iopub.status.busy": "2022-12-28T05:42:03.862109Z",
     "iopub.status.idle": "2022-12-28T05:42:03.865926Z",
     "shell.execute_reply": "2022-12-28T05:42:03.865170Z"
    },
    "papermill": {
     "duration": 0.020834,
     "end_time": "2022-12-28T05:42:03.868138",
     "exception": false,
     "start_time": "2022-12-28T05:42:03.847304",
     "status": "completed"
    },
    "tags": []
   },
   "outputs": [],
   "source": [
    "# Data wrangling and merging and making data ready for modelling"
   ]
  },
  {
   "cell_type": "code",
   "execution_count": 18,
   "id": "14006a4d",
   "metadata": {
    "execution": {
     "iopub.execute_input": "2022-12-28T05:42:03.895887Z",
     "iopub.status.busy": "2022-12-28T05:42:03.895486Z",
     "iopub.status.idle": "2022-12-28T05:42:03.904407Z",
     "shell.execute_reply": "2022-12-28T05:42:03.903124Z"
    },
    "papermill": {
     "duration": 0.025609,
     "end_time": "2022-12-28T05:42:03.906681",
     "exception": false,
     "start_time": "2022-12-28T05:42:03.881072",
     "status": "completed"
    },
    "tags": []
   },
   "outputs": [
    {
     "data": {
      "text/plain": [
       "0                                             scorecard\n",
       "1                                   the best lake scene\n",
       "2                         leader: german sleaze inquiry\n",
       "3                                         cheerio, boyo\n",
       "4                              the main recommendations\n",
       "5                                has cubie killed fees?\n",
       "6                                has cubie killed fees?\n",
       "7                                has cubie killed fees?\n",
       "8     hopkins 'furious' at foster's lack of hannibal...\n",
       "9                                has cubie killed fees?\n",
       "10                                  a tale of two tails\n",
       "11              i say what i like and i like what i say\n",
       "12                             elbows, eyes and nipples\n",
       "13      task force to assess risk of asteroid collision\n",
       "14                           how i found myself at last\n",
       "15                                 on the critical list\n",
       "16                            the timing of their lives\n",
       "17                                          dear doctor\n",
       "18    irish court halts ira man's extradition to nor...\n",
       "19    burundi peace initiative fades after rebels re...\n",
       "20                 pe points the way forward to the ecb\n",
       "21    campaigners keep up pressure on nazi war crime...\n",
       "22                                       jane ratcliffe\n",
       "23    yet more things you wouldn't know without the ...\n",
       "24                         millennium bug fails to bite\n",
       "Name: 1, dtype: object"
      ]
     },
     "execution_count": 18,
     "metadata": {},
     "output_type": "execute_result"
    }
   ],
   "source": [
    "data.iloc[1,0:25]\n",
    "    "
   ]
  },
  {
   "cell_type": "code",
   "execution_count": 19,
   "id": "cc98946d",
   "metadata": {
    "execution": {
     "iopub.execute_input": "2022-12-28T05:42:03.934657Z",
     "iopub.status.busy": "2022-12-28T05:42:03.934262Z",
     "iopub.status.idle": "2022-12-28T05:42:03.939904Z",
     "shell.execute_reply": "2022-12-28T05:42:03.938075Z"
    },
    "papermill": {
     "duration": 0.023344,
     "end_time": "2022-12-28T05:42:03.943177",
     "exception": false,
     "start_time": "2022-12-28T05:42:03.919833",
     "status": "completed"
    },
    "tags": []
   },
   "outputs": [],
   "source": [
    "# 1.data into list\n",
    "# 2.list into some string\n",
    "\n",
    "# headlines= []\n",
    "# for text in data.iloc[1,0:25]:\n",
    "#     headlines.append(text)\n",
    "# headlines    "
   ]
  },
  {
   "cell_type": "code",
   "execution_count": 20,
   "id": "ec48e55c",
   "metadata": {
    "execution": {
     "iopub.execute_input": "2022-12-28T05:42:03.980757Z",
     "iopub.status.busy": "2022-12-28T05:42:03.979494Z",
     "iopub.status.idle": "2022-12-28T05:42:03.984801Z",
     "shell.execute_reply": "2022-12-28T05:42:03.984012Z"
    },
    "papermill": {
     "duration": 0.024889,
     "end_time": "2022-12-28T05:42:03.987074",
     "exception": false,
     "start_time": "2022-12-28T05:42:03.962185",
     "status": "completed"
    },
    "tags": []
   },
   "outputs": [],
   "source": [
    "# ' '.join(headlines)"
   ]
  },
  {
   "cell_type": "code",
   "execution_count": 21,
   "id": "ed55c53f",
   "metadata": {
    "execution": {
     "iopub.execute_input": "2022-12-28T05:42:04.016934Z",
     "iopub.status.busy": "2022-12-28T05:42:04.016169Z",
     "iopub.status.idle": "2022-12-28T05:42:04.655543Z",
     "shell.execute_reply": "2022-12-28T05:42:04.654084Z"
    },
    "papermill": {
     "duration": 0.657673,
     "end_time": "2022-12-28T05:42:04.659025",
     "exception": false,
     "start_time": "2022-12-28T05:42:04.001352",
     "status": "completed"
    },
    "tags": []
   },
   "outputs": [],
   "source": [
    "# above code in list comprehension way\n",
    "headline= []\n",
    "for j in range(0,len(data)):\n",
    "    headline.append(' '.join([str(i) for i in data.iloc[j,0:25]]))"
   ]
  },
  {
   "cell_type": "code",
   "execution_count": 22,
   "id": "b512c547",
   "metadata": {
    "execution": {
     "iopub.execute_input": "2022-12-28T05:42:04.687930Z",
     "iopub.status.busy": "2022-12-28T05:42:04.687518Z",
     "iopub.status.idle": "2022-12-28T05:42:04.692383Z",
     "shell.execute_reply": "2022-12-28T05:42:04.691222Z"
    },
    "papermill": {
     "duration": 0.021653,
     "end_time": "2022-12-28T05:42:04.694693",
     "exception": false,
     "start_time": "2022-12-28T05:42:04.673040",
     "status": "completed"
    },
    "tags": []
   },
   "outputs": [],
   "source": [
    "# headline     "
   ]
  },
  {
   "cell_type": "code",
   "execution_count": 23,
   "id": "a35ba03c",
   "metadata": {
    "execution": {
     "iopub.execute_input": "2022-12-28T05:42:04.722610Z",
     "iopub.status.busy": "2022-12-28T05:42:04.722179Z",
     "iopub.status.idle": "2022-12-28T05:42:04.729983Z",
     "shell.execute_reply": "2022-12-28T05:42:04.728766Z"
    },
    "papermill": {
     "duration": 0.02464,
     "end_time": "2022-12-28T05:42:04.732268",
     "exception": false,
     "start_time": "2022-12-28T05:42:04.707628",
     "status": "completed"
    },
    "tags": []
   },
   "outputs": [
    {
     "data": {
      "text/plain": [
       "[\"a 'hindrance to operations': extracts from the leaked reports scorecard hughes' instant hit buoys blues jack gets his skates on at ice-cold alex chaos as maracana builds up for united depleted leicester prevail as elliott spoils everton's party hungry spurs sense rich pickings gunners so wide of an easy target derby raise a glass to strupar's debut double southgate strikes, leeds pay the penalty hammers hand robson a youthful lesson saints party like it's 1999 wear wolves have turned into lambs stump mike catches testy gough's taunt langer escapes to hit 167 flintoff injury piles on woe for england hunters threaten jospin with new battle of the somme kohl's successor drawn into scandal the difference between men and women sara denver, nurse turned solicitor diana's landmine crusade put tories in a panic yeltsin's resignation caught opposition flat-footed russian roulette sold out recovering a title\",\n",
       " \"scorecard the best lake scene leader: german sleaze inquiry cheerio, boyo the main recommendations has cubie killed fees? has cubie killed fees? has cubie killed fees? hopkins 'furious' at foster's lack of hannibal appetite has cubie killed fees? a tale of two tails i say what i like and i like what i say elbows, eyes and nipples task force to assess risk of asteroid collision how i found myself at last on the critical list the timing of their lives dear doctor irish court halts ira man's extradition to northern ireland burundi peace initiative fades after rebels reject mandela as mediator pe points the way forward to the ecb campaigners keep up pressure on nazi war crimes suspect jane ratcliffe yet more things you wouldn't know without the movies millennium bug fails to bite\",\n",
       " \"coventry caught on counter by flo united's rivals on the road to rio thatcher issues defence before trial by video police help smith lay down the law at everton tale of trautmann bears two more retellings england on the rack pakistan retaliate with call for video of walsh cullinan continues his cape monopoly mcgrath puts india out of their misery blair witch bandwagon rolls on pele turns up heat on ferguson party divided over kohl slush fund scandal manchester united (england) women in record south pole walk vasco da gama (brazil) south melbourne (australia) necaxa (mexico) real madrid (spain) raja casablanca (morocco) corinthians (brazil) tony's pet project al nassr (saudi arabia) ideal holmes show pinochet leaves hospital after tests useful links\"]"
      ]
     },
     "execution_count": 23,
     "metadata": {},
     "output_type": "execute_result"
    }
   ],
   "source": [
    "headline[0:3]"
   ]
  },
  {
   "cell_type": "code",
   "execution_count": 24,
   "id": "33b39f7e",
   "metadata": {
    "execution": {
     "iopub.execute_input": "2022-12-28T05:42:04.761337Z",
     "iopub.status.busy": "2022-12-28T05:42:04.760497Z",
     "iopub.status.idle": "2022-12-28T05:42:06.047747Z",
     "shell.execute_reply": "2022-12-28T05:42:06.046571Z"
    },
    "papermill": {
     "duration": 1.305292,
     "end_time": "2022-12-28T05:42:06.050700",
     "exception": false,
     "start_time": "2022-12-28T05:42:04.745408",
     "status": "completed"
    },
    "tags": []
   },
   "outputs": [],
   "source": [
    "from sklearn.feature_extraction.text import CountVectorizer\n",
    "from sklearn.ensemble import RandomForestClassifier"
   ]
  },
  {
   "cell_type": "code",
   "execution_count": 25,
   "id": "62ec2078",
   "metadata": {
    "execution": {
     "iopub.execute_input": "2022-12-28T05:42:06.079766Z",
     "iopub.status.busy": "2022-12-28T05:42:06.079365Z",
     "iopub.status.idle": "2022-12-28T05:42:07.145889Z",
     "shell.execute_reply": "2022-12-28T05:42:07.144622Z"
    },
    "papermill": {
     "duration": 1.084069,
     "end_time": "2022-12-28T05:42:07.148769",
     "exception": false,
     "start_time": "2022-12-28T05:42:06.064700",
     "status": "completed"
    },
    "tags": []
   },
   "outputs": [],
   "source": [
    "cv= CountVectorizer()\n",
    "train_data_x= cv.fit_transform(headline)"
   ]
  },
  {
   "cell_type": "code",
   "execution_count": 26,
   "id": "2bfeb323",
   "metadata": {
    "execution": {
     "iopub.execute_input": "2022-12-28T05:42:07.177015Z",
     "iopub.status.busy": "2022-12-28T05:42:07.176398Z",
     "iopub.status.idle": "2022-12-28T05:42:19.320391Z",
     "shell.execute_reply": "2022-12-28T05:42:19.319258Z"
    },
    "papermill": {
     "duration": 12.160919,
     "end_time": "2022-12-28T05:42:19.322847",
     "exception": false,
     "start_time": "2022-12-28T05:42:07.161928",
     "status": "completed"
    },
    "tags": []
   },
   "outputs": [
    {
     "data": {
      "text/plain": [
       "RandomForestClassifier(criterion='entropy', n_estimators=200)"
      ]
     },
     "execution_count": 26,
     "metadata": {},
     "output_type": "execute_result"
    }
   ],
   "source": [
    "model= RandomForestClassifier(n_estimators=200,criterion= 'entropy')\n",
    "model.fit(train_data_x,train['Label'])"
   ]
  },
  {
   "cell_type": "code",
   "execution_count": 27,
   "id": "a4913357",
   "metadata": {
    "execution": {
     "iopub.execute_input": "2022-12-28T05:42:19.351850Z",
     "iopub.status.busy": "2022-12-28T05:42:19.351125Z",
     "iopub.status.idle": "2022-12-28T05:42:19.377096Z",
     "shell.execute_reply": "2022-12-28T05:42:19.375836Z"
    },
    "papermill": {
     "duration": 0.043215,
     "end_time": "2022-12-28T05:42:19.379656",
     "exception": false,
     "start_time": "2022-12-28T05:42:19.336441",
     "status": "completed"
    },
    "tags": []
   },
   "outputs": [
    {
     "data": {
      "text/html": [
       "<div>\n",
       "<style scoped>\n",
       "    .dataframe tbody tr th:only-of-type {\n",
       "        vertical-align: middle;\n",
       "    }\n",
       "\n",
       "    .dataframe tbody tr th {\n",
       "        vertical-align: top;\n",
       "    }\n",
       "\n",
       "    .dataframe thead th {\n",
       "        text-align: right;\n",
       "    }\n",
       "</style>\n",
       "<table border=\"1\" class=\"dataframe\">\n",
       "  <thead>\n",
       "    <tr style=\"text-align: right;\">\n",
       "      <th></th>\n",
       "      <th>Date</th>\n",
       "      <th>Label</th>\n",
       "      <th>Top1</th>\n",
       "      <th>Top2</th>\n",
       "      <th>Top3</th>\n",
       "      <th>Top4</th>\n",
       "      <th>Top5</th>\n",
       "      <th>Top6</th>\n",
       "      <th>Top7</th>\n",
       "      <th>Top8</th>\n",
       "      <th>...</th>\n",
       "      <th>Top16</th>\n",
       "      <th>Top17</th>\n",
       "      <th>Top18</th>\n",
       "      <th>Top19</th>\n",
       "      <th>Top20</th>\n",
       "      <th>Top21</th>\n",
       "      <th>Top22</th>\n",
       "      <th>Top23</th>\n",
       "      <th>Top24</th>\n",
       "      <th>Top25</th>\n",
       "    </tr>\n",
       "  </thead>\n",
       "  <tbody>\n",
       "    <tr>\n",
       "      <th>3723</th>\n",
       "      <td>2015-01-02</td>\n",
       "      <td>1</td>\n",
       "      <td>Most cases of cancer are the result of sheer b...</td>\n",
       "      <td>Iran dismissed United States efforts to fight ...</td>\n",
       "      <td>Poll: One in 8 Germans would join anti-Muslim ...</td>\n",
       "      <td>UK royal family's Prince Andrew named in US la...</td>\n",
       "      <td>Some 40 asylum-seekers refused to leave the bu...</td>\n",
       "      <td>Pakistani boat blows self up after India navy ...</td>\n",
       "      <td>Sweden hit by third mosque arson attack in a week</td>\n",
       "      <td>940 cars set alight during French New Year</td>\n",
       "      <td>...</td>\n",
       "      <td>Ukrainian minister threatens TV channel with c...</td>\n",
       "      <td>Palestinian President Mahmoud Abbas has entere...</td>\n",
       "      <td>Israeli security center publishes names of 50 ...</td>\n",
       "      <td>The year 2014 was the deadliest year yet in Sy...</td>\n",
       "      <td>A Secret underground complex built by the Nazi...</td>\n",
       "      <td>Restrictions on Web Freedom a Major Global Iss...</td>\n",
       "      <td>Austrian journalist Erich Mchel delivered a pr...</td>\n",
       "      <td>Thousands of Ukraine nationalists march in Kiev</td>\n",
       "      <td>Chinas New Years Resolution: No More Harvestin...</td>\n",
       "      <td>Authorities Pull Plug on Russia's Last Politic...</td>\n",
       "    </tr>\n",
       "    <tr>\n",
       "      <th>3724</th>\n",
       "      <td>2015-01-05</td>\n",
       "      <td>0</td>\n",
       "      <td>Moscow-&amp;gt;Beijing high speed train will reduc...</td>\n",
       "      <td>Two ancient tombs were discovered in Egypt on ...</td>\n",
       "      <td>China complains to Pyongyang after N Korean so...</td>\n",
       "      <td>Scotland Headed Towards Being Fossil Fuel-Free...</td>\n",
       "      <td>Prime Minister Shinzo Abe said Monday he will ...</td>\n",
       "      <td>Sex slave at centre of Prince Andrew scandal f...</td>\n",
       "      <td>Gay relative of Hamas founder faces deportatio...</td>\n",
       "      <td>The number of female drug addicts in Iran has ...</td>\n",
       "      <td>...</td>\n",
       "      <td>The Islamic State has approved a 2015 budget o...</td>\n",
       "      <td>Iceland To Withdraw EU Application, Lift Capit...</td>\n",
       "      <td>Blackfield Capital Founder Goes Missing: The v...</td>\n",
       "      <td>Rocket stage crashes back to Earth in rural Ch...</td>\n",
       "      <td>2 Dead as Aircraft Bombs Greek Tanker in Libya...</td>\n",
       "      <td>Belgian murderer Frank Van Den Bleeken to die ...</td>\n",
       "      <td>Czech President criticizes Ukrainian PM; says ...</td>\n",
       "      <td>3 Vietnamese jets join search for 16 missing F...</td>\n",
       "      <td>France seeks end to Russia sanctions over Ukraine</td>\n",
       "      <td>China scraps rare earths caps</td>\n",
       "    </tr>\n",
       "    <tr>\n",
       "      <th>3725</th>\n",
       "      <td>2015-01-06</td>\n",
       "      <td>0</td>\n",
       "      <td>US oil falls below $50 a barrel</td>\n",
       "      <td>Toyota gives away 5,680 fuel cell patents to b...</td>\n",
       "      <td>Young Indian couple who had been granted polic...</td>\n",
       "      <td>A senior figure in Islamic States self-declare...</td>\n",
       "      <td>Fukushima rice passes radiation tests for 1st ...</td>\n",
       "      <td>Nearly all Spanish parties guilty of financial...</td>\n",
       "      <td>King Abdullah to abdicate Saudi Throne</td>\n",
       "      <td>Taliban Commander Caught Networking On LinkedIn</td>\n",
       "      <td>...</td>\n",
       "      <td>Thousands of Indians have fled from their home...</td>\n",
       "      <td>Turkey sacks judges who oversaw Erdogan corrup...</td>\n",
       "      <td>SpaceX Falcon 9 launch and recovery has been a...</td>\n",
       "      <td>CNN: Americans charged in botched Gambia coup</td>\n",
       "      <td>Islamic State 'Police' Official Beheaded.</td>\n",
       "      <td>Libya bans Palestinians from country to preven...</td>\n",
       "      <td>A judicial inquiry was opened in France on Mon...</td>\n",
       "      <td>Video has captured the moment a cameraman was ...</td>\n",
       "      <td>Syria has complained to the United Nations tha...</td>\n",
       "      <td>Tests over, India set to make the iris of bigg...</td>\n",
       "    </tr>\n",
       "    <tr>\n",
       "      <th>3726</th>\n",
       "      <td>2015-01-07</td>\n",
       "      <td>1</td>\n",
       "      <td>'Shots fired' at French magazine HQ</td>\n",
       "      <td>90% of Bibi Netanyahus Campaign Funds From U.S.</td>\n",
       "      <td>ISIS behead street magician for entertaining c...</td>\n",
       "      <td>Denmark sets new world record in renewable ene...</td>\n",
       "      <td>ISIS Closes Schools In Syria, Leaving 670000 C...</td>\n",
       "      <td>The European Union wants Turkey to explain how...</td>\n",
       "      <td>10 people have died in a shooting at the headq...</td>\n",
       "      <td>Most Earth-like planet ever discovered could b...</td>\n",
       "      <td>...</td>\n",
       "      <td>Discovery of witnesss mutilated body feeds cla...</td>\n",
       "      <td>Radical Islam a growing threat to sub-Saharan ...</td>\n",
       "      <td>Tony Blair may 'face war crime charges' over I...</td>\n",
       "      <td>Benjamin Netanyahu says settlements unlikely t...</td>\n",
       "      <td>Tasmania moves to allow corporations to sue pr...</td>\n",
       "      <td>Indonesia search chief: Tail section of AirAsi...</td>\n",
       "      <td>North Korean Defector: \"Bureau 121\" Hackers lo...</td>\n",
       "      <td>Female suicide bomber attacks police station i...</td>\n",
       "      <td>IS to turn Syria schools into religious indoct...</td>\n",
       "      <td>Ebola vaccine trials in Halifax so far a success</td>\n",
       "    </tr>\n",
       "    <tr>\n",
       "      <th>3727</th>\n",
       "      <td>2015-01-08</td>\n",
       "      <td>1</td>\n",
       "      <td>New Charlie Hebdo issue to come out next week:...</td>\n",
       "      <td>Ahmed Merabet, Cop Killed In Paris Attacks, Wa...</td>\n",
       "      <td>Youngest Suspect in Charlie Hebdo Attack Turns...</td>\n",
       "      <td>Grenades thrown at a mosque in Le Mans, west o...</td>\n",
       "      <td>Danish newspaper to print Charlie Hebdo cartoo...</td>\n",
       "      <td>Muslim politician from India offers $8M to Cha...</td>\n",
       "      <td>Vladimir Putin has condemned a deadly terroris...</td>\n",
       "      <td>Turkey is trying to hide any evidence that hol...</td>\n",
       "      <td>...</td>\n",
       "      <td>Thousands in Europe hold up Pens in Solidarity...</td>\n",
       "      <td>Journalists race to show solidarity with 'Char...</td>\n",
       "      <td>Antibiotics: US discovery labelled 'game-chang...</td>\n",
       "      <td>The Charlie Hebdo attack condemned by Saudi Ar...</td>\n",
       "      <td>Brisbane man wearing \"I'm with stupid\" t-shirt...</td>\n",
       "      <td>Fourth Russian General Commits Suicide in Less...</td>\n",
       "      <td>Meteorite turns night into day over Bucharest,...</td>\n",
       "      <td>Israeli doctors implant Syrian man with titani...</td>\n",
       "      <td>Unusual Metal Recovered from Ancient Greek Shi...</td>\n",
       "      <td>Young mother let terrorists into Charlie Hebdo...</td>\n",
       "    </tr>\n",
       "  </tbody>\n",
       "</table>\n",
       "<p>5 rows × 27 columns</p>\n",
       "</div>"
      ],
      "text/plain": [
       "            Date  Label                                               Top1  \\\n",
       "3723  2015-01-02      1  Most cases of cancer are the result of sheer b...   \n",
       "3724  2015-01-05      0  Moscow-&gt;Beijing high speed train will reduc...   \n",
       "3725  2015-01-06      0                    US oil falls below $50 a barrel   \n",
       "3726  2015-01-07      1                'Shots fired' at French magazine HQ   \n",
       "3727  2015-01-08      1  New Charlie Hebdo issue to come out next week:...   \n",
       "\n",
       "                                                   Top2  \\\n",
       "3723  Iran dismissed United States efforts to fight ...   \n",
       "3724  Two ancient tombs were discovered in Egypt on ...   \n",
       "3725  Toyota gives away 5,680 fuel cell patents to b...   \n",
       "3726    90% of Bibi Netanyahus Campaign Funds From U.S.   \n",
       "3727  Ahmed Merabet, Cop Killed In Paris Attacks, Wa...   \n",
       "\n",
       "                                                   Top3  \\\n",
       "3723  Poll: One in 8 Germans would join anti-Muslim ...   \n",
       "3724  China complains to Pyongyang after N Korean so...   \n",
       "3725  Young Indian couple who had been granted polic...   \n",
       "3726  ISIS behead street magician for entertaining c...   \n",
       "3727  Youngest Suspect in Charlie Hebdo Attack Turns...   \n",
       "\n",
       "                                                   Top4  \\\n",
       "3723  UK royal family's Prince Andrew named in US la...   \n",
       "3724  Scotland Headed Towards Being Fossil Fuel-Free...   \n",
       "3725  A senior figure in Islamic States self-declare...   \n",
       "3726  Denmark sets new world record in renewable ene...   \n",
       "3727  Grenades thrown at a mosque in Le Mans, west o...   \n",
       "\n",
       "                                                   Top5  \\\n",
       "3723  Some 40 asylum-seekers refused to leave the bu...   \n",
       "3724  Prime Minister Shinzo Abe said Monday he will ...   \n",
       "3725  Fukushima rice passes radiation tests for 1st ...   \n",
       "3726  ISIS Closes Schools In Syria, Leaving 670000 C...   \n",
       "3727  Danish newspaper to print Charlie Hebdo cartoo...   \n",
       "\n",
       "                                                   Top6  \\\n",
       "3723  Pakistani boat blows self up after India navy ...   \n",
       "3724  Sex slave at centre of Prince Andrew scandal f...   \n",
       "3725  Nearly all Spanish parties guilty of financial...   \n",
       "3726  The European Union wants Turkey to explain how...   \n",
       "3727  Muslim politician from India offers $8M to Cha...   \n",
       "\n",
       "                                                   Top7  \\\n",
       "3723  Sweden hit by third mosque arson attack in a week   \n",
       "3724  Gay relative of Hamas founder faces deportatio...   \n",
       "3725             King Abdullah to abdicate Saudi Throne   \n",
       "3726  10 people have died in a shooting at the headq...   \n",
       "3727  Vladimir Putin has condemned a deadly terroris...   \n",
       "\n",
       "                                                   Top8  ...  \\\n",
       "3723         940 cars set alight during French New Year  ...   \n",
       "3724  The number of female drug addicts in Iran has ...  ...   \n",
       "3725    Taliban Commander Caught Networking On LinkedIn  ...   \n",
       "3726  Most Earth-like planet ever discovered could b...  ...   \n",
       "3727  Turkey is trying to hide any evidence that hol...  ...   \n",
       "\n",
       "                                                  Top16  \\\n",
       "3723  Ukrainian minister threatens TV channel with c...   \n",
       "3724  The Islamic State has approved a 2015 budget o...   \n",
       "3725  Thousands of Indians have fled from their home...   \n",
       "3726  Discovery of witnesss mutilated body feeds cla...   \n",
       "3727  Thousands in Europe hold up Pens in Solidarity...   \n",
       "\n",
       "                                                  Top17  \\\n",
       "3723  Palestinian President Mahmoud Abbas has entere...   \n",
       "3724  Iceland To Withdraw EU Application, Lift Capit...   \n",
       "3725  Turkey sacks judges who oversaw Erdogan corrup...   \n",
       "3726  Radical Islam a growing threat to sub-Saharan ...   \n",
       "3727  Journalists race to show solidarity with 'Char...   \n",
       "\n",
       "                                                  Top18  \\\n",
       "3723  Israeli security center publishes names of 50 ...   \n",
       "3724  Blackfield Capital Founder Goes Missing: The v...   \n",
       "3725  SpaceX Falcon 9 launch and recovery has been a...   \n",
       "3726  Tony Blair may 'face war crime charges' over I...   \n",
       "3727  Antibiotics: US discovery labelled 'game-chang...   \n",
       "\n",
       "                                                  Top19  \\\n",
       "3723  The year 2014 was the deadliest year yet in Sy...   \n",
       "3724  Rocket stage crashes back to Earth in rural Ch...   \n",
       "3725      CNN: Americans charged in botched Gambia coup   \n",
       "3726  Benjamin Netanyahu says settlements unlikely t...   \n",
       "3727  The Charlie Hebdo attack condemned by Saudi Ar...   \n",
       "\n",
       "                                                  Top20  \\\n",
       "3723  A Secret underground complex built by the Nazi...   \n",
       "3724  2 Dead as Aircraft Bombs Greek Tanker in Libya...   \n",
       "3725          Islamic State 'Police' Official Beheaded.   \n",
       "3726  Tasmania moves to allow corporations to sue pr...   \n",
       "3727  Brisbane man wearing \"I'm with stupid\" t-shirt...   \n",
       "\n",
       "                                                  Top21  \\\n",
       "3723  Restrictions on Web Freedom a Major Global Iss...   \n",
       "3724  Belgian murderer Frank Van Den Bleeken to die ...   \n",
       "3725  Libya bans Palestinians from country to preven...   \n",
       "3726  Indonesia search chief: Tail section of AirAsi...   \n",
       "3727  Fourth Russian General Commits Suicide in Less...   \n",
       "\n",
       "                                                  Top22  \\\n",
       "3723  Austrian journalist Erich Mchel delivered a pr...   \n",
       "3724  Czech President criticizes Ukrainian PM; says ...   \n",
       "3725  A judicial inquiry was opened in France on Mon...   \n",
       "3726  North Korean Defector: \"Bureau 121\" Hackers lo...   \n",
       "3727  Meteorite turns night into day over Bucharest,...   \n",
       "\n",
       "                                                  Top23  \\\n",
       "3723    Thousands of Ukraine nationalists march in Kiev   \n",
       "3724  3 Vietnamese jets join search for 16 missing F...   \n",
       "3725  Video has captured the moment a cameraman was ...   \n",
       "3726  Female suicide bomber attacks police station i...   \n",
       "3727  Israeli doctors implant Syrian man with titani...   \n",
       "\n",
       "                                                  Top24  \\\n",
       "3723  Chinas New Years Resolution: No More Harvestin...   \n",
       "3724  France seeks end to Russia sanctions over Ukraine   \n",
       "3725  Syria has complained to the United Nations tha...   \n",
       "3726  IS to turn Syria schools into religious indoct...   \n",
       "3727  Unusual Metal Recovered from Ancient Greek Shi...   \n",
       "\n",
       "                                                  Top25  \n",
       "3723  Authorities Pull Plug on Russia's Last Politic...  \n",
       "3724                      China scraps rare earths caps  \n",
       "3725  Tests over, India set to make the iris of bigg...  \n",
       "3726   Ebola vaccine trials in Halifax so far a success  \n",
       "3727  Young mother let terrorists into Charlie Hebdo...  \n",
       "\n",
       "[5 rows x 27 columns]"
      ]
     },
     "execution_count": 27,
     "metadata": {},
     "output_type": "execute_result"
    }
   ],
   "source": [
    "test.head()"
   ]
  },
  {
   "cell_type": "code",
   "execution_count": 28,
   "id": "3a9ec035",
   "metadata": {
    "execution": {
     "iopub.execute_input": "2022-12-28T05:42:19.410584Z",
     "iopub.status.busy": "2022-12-28T05:42:19.409709Z",
     "iopub.status.idle": "2022-12-28T05:42:19.497953Z",
     "shell.execute_reply": "2022-12-28T05:42:19.496800Z"
    },
    "papermill": {
     "duration": 0.106521,
     "end_time": "2022-12-28T05:42:19.500823",
     "exception": false,
     "start_time": "2022-12-28T05:42:19.394302",
     "status": "completed"
    },
    "tags": []
   },
   "outputs": [],
   "source": [
    "test_data= []\n",
    "for j in range(0,len(test)):\n",
    "    test_data.append(' '.join([str(i) for i in test.iloc[j,2:27]]))"
   ]
  },
  {
   "cell_type": "code",
   "execution_count": 29,
   "id": "87cdd42c",
   "metadata": {
    "execution": {
     "iopub.execute_input": "2022-12-28T05:42:19.530016Z",
     "iopub.status.busy": "2022-12-28T05:42:19.529592Z",
     "iopub.status.idle": "2022-12-28T05:42:19.533642Z",
     "shell.execute_reply": "2022-12-28T05:42:19.532836Z"
    },
    "papermill": {
     "duration": 0.021316,
     "end_time": "2022-12-28T05:42:19.535875",
     "exception": false,
     "start_time": "2022-12-28T05:42:19.514559",
     "status": "completed"
    },
    "tags": []
   },
   "outputs": [],
   "source": [
    "# test_data"
   ]
  },
  {
   "cell_type": "code",
   "execution_count": 30,
   "id": "4a3aa2ad",
   "metadata": {
    "execution": {
     "iopub.execute_input": "2022-12-28T05:42:19.565765Z",
     "iopub.status.busy": "2022-12-28T05:42:19.565376Z",
     "iopub.status.idle": "2022-12-28T05:42:19.709824Z",
     "shell.execute_reply": "2022-12-28T05:42:19.708836Z"
    },
    "papermill": {
     "duration": 0.16223,
     "end_time": "2022-12-28T05:42:19.712507",
     "exception": false,
     "start_time": "2022-12-28T05:42:19.550277",
     "status": "completed"
    },
    "tags": []
   },
   "outputs": [],
   "source": [
    "test_data_x= cv.transform(test_data)"
   ]
  },
  {
   "cell_type": "code",
   "execution_count": 31,
   "id": "b2b79df8",
   "metadata": {
    "execution": {
     "iopub.execute_input": "2022-12-28T05:42:19.742368Z",
     "iopub.status.busy": "2022-12-28T05:42:19.741439Z",
     "iopub.status.idle": "2022-12-28T05:42:19.921689Z",
     "shell.execute_reply": "2022-12-28T05:42:19.920438Z"
    },
    "papermill": {
     "duration": 0.19827,
     "end_time": "2022-12-28T05:42:19.924716",
     "exception": false,
     "start_time": "2022-12-28T05:42:19.726446",
     "status": "completed"
    },
    "tags": []
   },
   "outputs": [],
   "source": [
    "predict= model.predict(test_data_x)"
   ]
  },
  {
   "cell_type": "code",
   "execution_count": 32,
   "id": "5b0d9827",
   "metadata": {
    "execution": {
     "iopub.execute_input": "2022-12-28T05:42:19.955076Z",
     "iopub.status.busy": "2022-12-28T05:42:19.954653Z",
     "iopub.status.idle": "2022-12-28T05:42:19.959940Z",
     "shell.execute_reply": "2022-12-28T05:42:19.958616Z"
    },
    "papermill": {
     "duration": 0.023333,
     "end_time": "2022-12-28T05:42:19.962411",
     "exception": false,
     "start_time": "2022-12-28T05:42:19.939078",
     "status": "completed"
    },
    "tags": []
   },
   "outputs": [],
   "source": [
    "# predict"
   ]
  },
  {
   "cell_type": "code",
   "execution_count": 33,
   "id": "27d094cb",
   "metadata": {
    "execution": {
     "iopub.execute_input": "2022-12-28T05:42:19.993773Z",
     "iopub.status.busy": "2022-12-28T05:42:19.993374Z",
     "iopub.status.idle": "2022-12-28T05:42:20.001596Z",
     "shell.execute_reply": "2022-12-28T05:42:20.000645Z"
    },
    "papermill": {
     "duration": 0.026638,
     "end_time": "2022-12-28T05:42:20.003935",
     "exception": false,
     "start_time": "2022-12-28T05:42:19.977297",
     "status": "completed"
    },
    "tags": []
   },
   "outputs": [],
   "source": [
    "from sklearn.metrics import confusion_matrix\n",
    "cm= confusion_matrix(test['Label'],predict)"
   ]
  },
  {
   "cell_type": "code",
   "execution_count": 34,
   "id": "861299a0",
   "metadata": {
    "execution": {
     "iopub.execute_input": "2022-12-28T05:42:20.034482Z",
     "iopub.status.busy": "2022-12-28T05:42:20.034047Z",
     "iopub.status.idle": "2022-12-28T05:42:20.041406Z",
     "shell.execute_reply": "2022-12-28T05:42:20.040295Z"
    },
    "papermill": {
     "duration": 0.025737,
     "end_time": "2022-12-28T05:42:20.043724",
     "exception": false,
     "start_time": "2022-12-28T05:42:20.017987",
     "status": "completed"
    },
    "tags": []
   },
   "outputs": [
    {
     "data": {
      "text/plain": [
       "array([[145,  41],\n",
       "       [ 16, 176]])"
      ]
     },
     "execution_count": 34,
     "metadata": {},
     "output_type": "execute_result"
    }
   ],
   "source": [
    "cm"
   ]
  },
  {
   "cell_type": "code",
   "execution_count": 35,
   "id": "f5cfdaee",
   "metadata": {
    "execution": {
     "iopub.execute_input": "2022-12-28T05:42:20.073826Z",
     "iopub.status.busy": "2022-12-28T05:42:20.072803Z",
     "iopub.status.idle": "2022-12-28T05:42:20.256142Z",
     "shell.execute_reply": "2022-12-28T05:42:20.254889Z"
    },
    "papermill": {
     "duration": 0.200709,
     "end_time": "2022-12-28T05:42:20.258480",
     "exception": false,
     "start_time": "2022-12-28T05:42:20.057771",
     "status": "completed"
    },
    "tags": []
   },
   "outputs": [
    {
     "data": {
      "text/plain": [
       "<matplotlib.image.AxesImage at 0x7f3295663790>"
      ]
     },
     "execution_count": 35,
     "metadata": {},
     "output_type": "execute_result"
    },
    {
     "data": {
      "image/png": "[encoded data removed]",
      "text/plain": [
       "<Figure size 432x288 with 1 Axes>"
      ]
     },
     "metadata": {
      "needs_background": "light"
     },
     "output_type": "display_data"
    }
   ],
   "source": [
    "import matplotlib.pyplot as plt\n",
    "plt.imshow(cm)\n"
   ]
  },
  {
   "cell_type": "code",
   "execution_count": 36,
   "id": "df379fb0",
   "metadata": {
    "execution": {
     "iopub.execute_input": "2022-12-28T05:42:20.289255Z",
     "iopub.status.busy": "2022-12-28T05:42:20.288062Z",
     "iopub.status.idle": "2022-12-28T05:42:20.296527Z",
     "shell.execute_reply": "2022-12-28T05:42:20.295442Z"
    },
    "papermill": {
     "duration": 0.026093,
     "end_time": "2022-12-28T05:42:20.298949",
     "exception": false,
     "start_time": "2022-12-28T05:42:20.272856",
     "status": "completed"
    },
    "tags": []
   },
   "outputs": [
    {
     "data": {
      "text/plain": [
       "0.8492063492063492"
      ]
     },
     "execution_count": 36,
     "metadata": {},
     "output_type": "execute_result"
    }
   ],
   "source": [
    "from sklearn.metrics import accuracy_score,classification_report\n",
    "accuracy_score(test['Label'],predict)"
   ]
  },
  {
   "cell_type": "code",
   "execution_count": 37,
   "id": "6a25f786",
   "metadata": {
    "execution": {
     "iopub.execute_input": "2022-12-28T05:42:20.330478Z",
     "iopub.status.busy": "2022-12-28T05:42:20.329713Z",
     "iopub.status.idle": "2022-12-28T05:42:20.341055Z",
     "shell.execute_reply": "2022-12-28T05:42:20.340239Z"
    },
    "papermill": {
     "duration": 0.030106,
     "end_time": "2022-12-28T05:42:20.343595",
     "exception": false,
     "start_time": "2022-12-28T05:42:20.313489",
     "status": "completed"
    },
    "tags": []
   },
   "outputs": [],
   "source": [
    "report= classification_report(test['Label'],predict)"
   ]
  },
  {
   "cell_type": "code",
   "execution_count": 38,
   "id": "146359d6",
   "metadata": {
    "execution": {
     "iopub.execute_input": "2022-12-28T05:42:20.375246Z",
     "iopub.status.busy": "2022-12-28T05:42:20.374761Z",
     "iopub.status.idle": "2022-12-28T05:42:20.380617Z",
     "shell.execute_reply": "2022-12-28T05:42:20.379423Z"
    },
    "papermill": {
     "duration": 0.025251,
     "end_time": "2022-12-28T05:42:20.383426",
     "exception": false,
     "start_time": "2022-12-28T05:42:20.358175",
     "status": "completed"
    },
    "tags": []
   },
   "outputs": [
    {
     "name": "stdout",
     "output_type": "stream",
     "text": [
      "              precision    recall  f1-score   support\n",
      "\n",
      "           0       0.90      0.78      0.84       186\n",
      "           1       0.81      0.92      0.86       192\n",
      "\n",
      "    accuracy                           0.85       378\n",
      "   macro avg       0.86      0.85      0.85       378\n",
      "weighted avg       0.86      0.85      0.85       378\n",
      "\n"
     ]
    }
   ],
   "source": [
    "print(report)"
   ]
  },
  {
   "cell_type": "code",
   "execution_count": 39,
   "id": "986de670",
   "metadata": {
    "execution": {
     "iopub.execute_input": "2022-12-28T05:42:20.414300Z",
     "iopub.status.busy": "2022-12-28T05:42:20.413911Z",
     "iopub.status.idle": "2022-12-28T05:42:20.421027Z",
     "shell.execute_reply": "2022-12-28T05:42:20.420124Z"
    },
    "papermill": {
     "duration": 0.02495,
     "end_time": "2022-12-28T05:42:20.423200",
     "exception": false,
     "start_time": "2022-12-28T05:42:20.398250",
     "status": "completed"
    },
    "tags": []
   },
   "outputs": [],
   "source": [
    "from sklearn.naive_bayes import MultinomialNB\n",
    "model2= MultinomialNB()\n"
   ]
  },
  {
   "cell_type": "code",
   "execution_count": 40,
   "id": "e30fbcb1",
   "metadata": {
    "execution": {
     "iopub.execute_input": "2022-12-28T05:42:20.454378Z",
     "iopub.status.busy": "2022-12-28T05:42:20.453624Z",
     "iopub.status.idle": "2022-12-28T05:42:20.470521Z",
     "shell.execute_reply": "2022-12-28T05:42:20.469546Z"
    },
    "papermill": {
     "duration": 0.034578,
     "end_time": "2022-12-28T05:42:20.472543",
     "exception": false,
     "start_time": "2022-12-28T05:42:20.437965",
     "status": "completed"
    },
    "tags": []
   },
   "outputs": [
    {
     "data": {
      "text/plain": [
       "MultinomialNB()"
      ]
     },
     "execution_count": 40,
     "metadata": {},
     "output_type": "execute_result"
    }
   ],
   "source": [
    "model2.fit(train_data_x,train['Label'])"
   ]
  },
  {
   "cell_type": "code",
   "execution_count": 41,
   "id": "2a536ec2",
   "metadata": {
    "execution": {
     "iopub.execute_input": "2022-12-28T05:42:20.503436Z",
     "iopub.status.busy": "2022-12-28T05:42:20.503034Z",
     "iopub.status.idle": "2022-12-28T05:42:20.680193Z",
     "shell.execute_reply": "2022-12-28T05:42:20.679310Z"
    },
    "papermill": {
     "duration": 0.195774,
     "end_time": "2022-12-28T05:42:20.682693",
     "exception": false,
     "start_time": "2022-12-28T05:42:20.486919",
     "status": "completed"
    },
    "tags": []
   },
   "outputs": [],
   "source": [
    "prediction= model.predict(test_data_x)"
   ]
  },
  {
   "cell_type": "code",
   "execution_count": 42,
   "id": "105bb42a",
   "metadata": {
    "execution": {
     "iopub.execute_input": "2022-12-28T05:42:20.713899Z",
     "iopub.status.busy": "2022-12-28T05:42:20.713017Z",
     "iopub.status.idle": "2022-12-28T05:42:20.718466Z",
     "shell.execute_reply": "2022-12-28T05:42:20.717541Z"
    },
    "papermill": {
     "duration": 0.02354,
     "end_time": "2022-12-28T05:42:20.720781",
     "exception": false,
     "start_time": "2022-12-28T05:42:20.697241",
     "status": "completed"
    },
    "tags": []
   },
   "outputs": [],
   "source": [
    "from sklearn.metrics import accuracy_score,confusion_matrix,classification_report\n",
    "cm= confusion_matrix(test['Label'],prediction)"
   ]
  },
  {
   "cell_type": "code",
   "execution_count": 43,
   "id": "5a93157a",
   "metadata": {
    "execution": {
     "iopub.execute_input": "2022-12-28T05:42:20.751248Z",
     "iopub.status.busy": "2022-12-28T05:42:20.750802Z",
     "iopub.status.idle": "2022-12-28T05:42:20.757319Z",
     "shell.execute_reply": "2022-12-28T05:42:20.756533Z"
    },
    "papermill": {
     "duration": 0.024179,
     "end_time": "2022-12-28T05:42:20.759391",
     "exception": false,
     "start_time": "2022-12-28T05:42:20.735212",
     "status": "completed"
    },
    "tags": []
   },
   "outputs": [
    {
     "data": {
      "text/plain": [
       "array([[145,  41],\n",
       "       [ 16, 176]])"
      ]
     },
     "execution_count": 43,
     "metadata": {},
     "output_type": "execute_result"
    }
   ],
   "source": [
    "cm"
   ]
  },
  {
   "cell_type": "code",
   "execution_count": 44,
   "id": "a1a6435f",
   "metadata": {
    "execution": {
     "iopub.execute_input": "2022-12-28T05:42:20.790459Z",
     "iopub.status.busy": "2022-12-28T05:42:20.789454Z",
     "iopub.status.idle": "2022-12-28T05:42:20.800414Z",
     "shell.execute_reply": "2022-12-28T05:42:20.798970Z"
    },
    "papermill": {
     "duration": 0.029137,
     "end_time": "2022-12-28T05:42:20.802980",
     "exception": false,
     "start_time": "2022-12-28T05:42:20.773843",
     "status": "completed"
    },
    "tags": []
   },
   "outputs": [],
   "source": [
    "report= classification_report(test['Label'],prediction)"
   ]
  },
  {
   "cell_type": "code",
   "execution_count": 45,
   "id": "76da23ce",
   "metadata": {
    "execution": {
     "iopub.execute_input": "2022-12-28T05:42:20.834022Z",
     "iopub.status.busy": "2022-12-28T05:42:20.833609Z",
     "iopub.status.idle": "2022-12-28T05:42:20.839172Z",
     "shell.execute_reply": "2022-12-28T05:42:20.838050Z"
    },
    "papermill": {
     "duration": 0.023732,
     "end_time": "2022-12-28T05:42:20.841432",
     "exception": false,
     "start_time": "2022-12-28T05:42:20.817700",
     "status": "completed"
    },
    "tags": []
   },
   "outputs": [
    {
     "name": "stdout",
     "output_type": "stream",
     "text": [
      "              precision    recall  f1-score   support\n",
      "\n",
      "           0       0.90      0.78      0.84       186\n",
      "           1       0.81      0.92      0.86       192\n",
      "\n",
      "    accuracy                           0.85       378\n",
      "   macro avg       0.86      0.85      0.85       378\n",
      "weighted avg       0.86      0.85      0.85       378\n",
      "\n"
     ]
    }
   ],
   "source": [
    "print(report)"
   ]
  },
  {
   "cell_type": "code",
   "execution_count": 46,
   "id": "a40a8e7c",
   "metadata": {
    "execution": {
     "iopub.execute_input": "2022-12-28T05:42:20.872981Z",
     "iopub.status.busy": "2022-12-28T05:42:20.871845Z",
     "iopub.status.idle": "2022-12-28T05:42:20.879499Z",
     "shell.execute_reply": "2022-12-28T05:42:20.878394Z"
    },
    "papermill": {
     "duration": 0.02573,
     "end_time": "2022-12-28T05:42:20.881817",
     "exception": false,
     "start_time": "2022-12-28T05:42:20.856087",
     "status": "completed"
    },
    "tags": []
   },
   "outputs": [
    {
     "data": {
      "text/plain": [
       "0.8492063492063492"
      ]
     },
     "execution_count": 46,
     "metadata": {},
     "output_type": "execute_result"
    }
   ],
   "source": [
    "accuracy_score(test['Label'],prediction)"
   ]
  },
  {
   "cell_type": "code",
   "execution_count": null,
   "id": "3f18ef3f",
   "metadata": {
    "papermill": {
     "duration": 0.014269,
     "end_time": "2022-12-28T05:42:20.910803",
     "exception": false,
     "start_time": "2022-12-28T05:42:20.896534",
     "status": "completed"
    },
    "tags": []
   },
   "outputs": [],
   "source": []
  }
 ],
 "metadata": {
  "kernelspec": {
   "display_name": "Python 3",
   "language": "python",
   "name": "python3"
  },
  "language_info": {
   "codemirror_mode": {
    "name": "ipython",
    "version": 3
   },
   "file_extension": ".py",
   "mimetype": "text/x-python",
   "name": "python",
   "nbconvert_exporter": "python",
   "pygments_lexer": "ipython3",
   "version": "3.7.12"
  },
  "papermill": {
   "default_parameters": {},
   "duration": 27.209035,
   "end_time": "2022-12-28T05:42:21.647835",
   "environment_variables": {},
   "exception": null,
   "input_path": "__notebook__.ipynb",
   "output_path": "__notebook__.ipynb",
   "parameters": {},
   "start_time": "2022-12-28T05:41:54.438800",
   "version": "2.3.4"
  }
 },
 "nbformat": 4,
 "nbformat_minor": 5
}
